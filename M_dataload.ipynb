{
 "cells": [
  {
   "cell_type": "code",
   "execution_count": 7,
   "metadata": {},
   "outputs": [],
   "source": [
    "import os\n",
    "import pandas as pd\n",
    "import matplotlib.pyplot as plt\n",
    "import numpy as np"
   ]
  },
  {
   "cell_type": "markdown",
   "metadata": {},
   "source": [
    "function for loading csv files"
   ]
  },
  {
   "cell_type": "code",
   "execution_count": 1,
   "metadata": {},
   "outputs": [],
   "source": [
    "def load_csv_data(folder_path):\n",
    "\n",
    "    csv_files = [file for file in os.listdir(folder_path) if file.endswith(\".csv\")]\n",
    "\n",
    "    csv_files = [os.path.join(folder_path, file) for file in csv_files]\n",
    "    print(csv_files)\n",
    "\n",
    "    dfs_csv = [pd.read_csv(file, sep=None) for file in csv_files]\n",
    "    \n",
    "    all_csv_dfs = pd.concat([df.drop(columns=['Sweep #'], errors='ignore') for df in dfs_csv],ignore_index=True, join='outer')\n",
    "  \n",
    "    return  all_csv_dfs"
   ]
  },
  {
   "cell_type": "code",
   "execution_count": null,
   "metadata": {},
   "outputs": [],
   "source": [
    "Malaga_A= load_csv_data('Malaga/VidueA')"
   ]
  },
  {
   "cell_type": "code",
   "execution_count": 4,
   "metadata": {},
   "outputs": [
    {
     "name": "stdout",
     "output_type": "stream",
     "text": [
      "(58963, 61)\n"
     ]
    }
   ],
   "source": [
    "print(Malaga_A.shape)"
   ]
  },
  {
   "cell_type": "code",
   "execution_count": null,
   "metadata": {},
   "outputs": [],
   "source": [
    "print(Malaga_A.columns)"
   ]
  },
  {
   "cell_type": "code",
   "execution_count": 6,
   "metadata": {},
   "outputs": [],
   "source": [
    "\n",
    "Malaga_A.columns = [col if col == \"Time\" else col.split()[1] for col in Malaga_A.columns]"
   ]
  },
  {
   "cell_type": "code",
   "execution_count": null,
   "metadata": {},
   "outputs": [],
   "source": [
    "Malaga_A['Time'].head()"
   ]
  },
  {
   "cell_type": "code",
   "execution_count": 8,
   "metadata": {},
   "outputs": [],
   "source": [
    "Malaga_A[\"Time\"] = pd.to_datetime(Malaga_A[\"Time\"], format=\"%m/%d/%Y %H:%M:%S.%f\", errors=\"coerce\").dt.strftime(\"%Y-%m-%d %H:%M\")"
   ]
  },
  {
   "cell_type": "code",
   "execution_count": null,
   "metadata": {},
   "outputs": [],
   "source": [
    "print(Malaga_A.info())"
   ]
  },
  {
   "cell_type": "code",
   "execution_count": null,
   "metadata": {},
   "outputs": [],
   "source": [
    "Malaga_A[\"Time\"] = pd.to_datetime(Malaga_A[\"Time\"], format=\"%Y-%m-%d %H:%M\")  \n",
    "Malaga_A= Malaga_A.sort_values(by=\"Time\", ascending=True)  \n",
    "print(\"First timestamp:\", Malaga_A[\"Time\"].min())\n",
    "print(\"Last timestamp:\", Malaga_A[\"Time\"].max())\n"
   ]
  },
  {
   "cell_type": "code",
   "execution_count": null,
   "metadata": {},
   "outputs": [],
   "source": [
    "#chekcs if the entire data are in 5min-intervals\n",
    "Malaga_A.set_index(\"Time\", inplace=True)\n",
    "start_time =  Malaga_A.index.min()\n",
    "end_time = Malaga_A.index.max()\n",
    "\n",
    "perfect_time_index = pd.date_range(start=start_time, end=end_time, freq='5min')\n",
    "\n",
    "missing_times = perfect_time_index.difference(Malaga_A.index)\n",
    "\n",
    "print(f\"Number of missing timestamps: {len(missing_times)}\")\n",
    "print(missing_times[:20]) "
   ]
  },
  {
   "cell_type": "code",
   "execution_count": null,
   "metadata": {},
   "outputs": [],
   "source": [
    "\n",
    "plt.figure(figsize=(50, 10))\n",
    "plt.plot(Malaga_A.index, Malaga_A['101'], marker='o', linestyle='-')\n",
    "plt.xlabel(\"Time\")\n",
    "plt.ylabel(\"column 101\")\n",
    "plt.title(f\"time serie of column 101 \")\n",
    "plt.grid()\n",
    "plt.show()"
   ]
  },
  {
   "cell_type": "code",
   "execution_count": 13,
   "metadata": {},
   "outputs": [],
   "source": [
    "Malaga_A = Malaga_A.reset_index()\n"
   ]
  },
  {
   "cell_type": "code",
   "execution_count": 14,
   "metadata": {},
   "outputs": [],
   "source": [
    "Malaga_A.to_csv(\"Malaga_WindowA_Alldata.csv\", index=False)"
   ]
  },
  {
   "cell_type": "code",
   "execution_count": 15,
   "metadata": {},
   "outputs": [],
   "source": [
    "Malaga_A=pd.read_csv(\"Malaga_WindowA_Alldata.csv\")"
   ]
  },
  {
   "cell_type": "code",
   "execution_count": null,
   "metadata": {},
   "outputs": [],
   "source": [
    "print(Malaga_A.describe())"
   ]
  },
  {
   "cell_type": "code",
   "execution_count": null,
   "metadata": {},
   "outputs": [],
   "source": [
    "print(Malaga_A.dtypes)\n",
    "print(Malaga_A.shape)"
   ]
  },
  {
   "cell_type": "code",
   "execution_count": null,
   "metadata": {},
   "outputs": [],
   "source": [
    "Malaga_B= load_csv_data('Malaga/Vindue B')\n",
    "print(Malaga_B.shape)"
   ]
  },
  {
   "cell_type": "code",
   "execution_count": 21,
   "metadata": {},
   "outputs": [],
   "source": [
    "Malaga_B.columns = [col if col == \"Time\" else col.split()[1] for col in Malaga_B.columns]\n",
    "print(Malaga_B.columns)\n",
    "print(Malaga_B.head())"
   ]
  },
  {
   "cell_type": "code",
   "execution_count": 24,
   "metadata": {},
   "outputs": [],
   "source": [
    "Malaga_B[\"Time\"] = pd.to_datetime(Malaga_B[\"Time\"], format=\"%m/%d/%Y %H:%M:%S.%f\", errors=\"coerce\").dt.strftime(\"%Y-%m-%d %H:%M\")"
   ]
  },
  {
   "cell_type": "code",
   "execution_count": null,
   "metadata": {},
   "outputs": [],
   "source": [
    "Malaga_B[\"Time\"] = pd.to_datetime(Malaga_B[\"Time\"], format=\"%Y-%m-%d %H:%M\")  \n",
    "Malaga_B= Malaga_B.sort_values(by=\"Time\", ascending=True)  \n",
    "print(\"Fist timestamp:\", Malaga_B[\"Time\"].min())\n",
    "print(\"Last timestamp:\", Malaga_B[\"Time\"].max())"
   ]
  },
  {
   "cell_type": "code",
   "execution_count": null,
   "metadata": {},
   "outputs": [],
   "source": [
    "\n",
    "plt.figure(figsize=(50, 10))\n",
    "plt.plot(Malaga_A.index, Malaga_A['204'], marker='o', linestyle='-')\n",
    "plt.xlabel(\"Tid\")\n",
    "plt.ylabel(\"column 101\")\n",
    "plt.title(f\"time serie of column 101 \")\n",
    "plt.grid()\n",
    "plt.show()"
   ]
  },
  {
   "cell_type": "code",
   "execution_count": null,
   "metadata": {},
   "outputs": [],
   "source": [
    "Malaga_B.head()"
   ]
  },
  {
   "cell_type": "code",
   "execution_count": 28,
   "metadata": {},
   "outputs": [],
   "source": [
    "Malaga_B.to_csv(\"Malaga_Window_B_Alldata.csv\", index=False)"
   ]
  },
  {
   "cell_type": "code",
   "execution_count": 10,
   "metadata": {},
   "outputs": [],
   "source": [
    "Malaga_B= pd.read_csv(\"Malaga_Window_B_Alldata.csv\")"
   ]
  },
  {
   "cell_type": "code",
   "execution_count": null,
   "metadata": {},
   "outputs": [],
   "source": [
    "Malaga_C= load_csv_data('Malaga/Vindue C')"
   ]
  },
  {
   "cell_type": "code",
   "execution_count": null,
   "metadata": {},
   "outputs": [],
   "source": [
    "print(Malaga_C.shape)"
   ]
  },
  {
   "cell_type": "code",
   "execution_count": null,
   "metadata": {},
   "outputs": [],
   "source": [
    "print(Malaga_C.columns)"
   ]
  },
  {
   "cell_type": "code",
   "execution_count": 33,
   "metadata": {},
   "outputs": [],
   "source": [
    "Malaga_C.columns = [col if col == \"Time\" else col.split()[1] for col in Malaga_C.columns]"
   ]
  },
  {
   "cell_type": "code",
   "execution_count": 37,
   "metadata": {},
   "outputs": [],
   "source": [
    "Malaga_C[\"Time\"] = pd.to_datetime(Malaga_C[\"Time\"], format=\"%m/%d/%Y %H:%M:%S.%f\", errors=\"coerce\").dt.strftime(\"%Y-%m-%d %H:%M\")"
   ]
  },
  {
   "cell_type": "code",
   "execution_count": null,
   "metadata": {},
   "outputs": [],
   "source": [
    "Malaga_C['Time'].head()"
   ]
  },
  {
   "cell_type": "code",
   "execution_count": null,
   "metadata": {},
   "outputs": [],
   "source": [
    "Malaga_C[\"Time\"] = pd.to_datetime(Malaga_C[\"Time\"], format=\"%Y-%m-%d %H:%M\")  \n",
    "Malaga_C= Malaga_C.sort_values(by=\"Time\", ascending=True)  \n",
    "print(\"First timestamp:\", Malaga_C[\"Time\"].min())\n",
    "print(\"Last timestamp:\", Malaga_C[\"Time\"].max())"
   ]
  },
  {
   "cell_type": "code",
   "execution_count": null,
   "metadata": {},
   "outputs": [],
   "source": [
    "Malaga_C.info()"
   ]
  },
  {
   "cell_type": "code",
   "execution_count": 41,
   "metadata": {},
   "outputs": [],
   "source": [
    "Malaga_C.to_csv(\"Malaga_Window_C_Alldata.csv\", index=False)"
   ]
  },
  {
   "cell_type": "code",
   "execution_count": null,
   "metadata": {},
   "outputs": [],
   "source": [
    "Malaga_C= Malaga_C.set_index(\"Time\")\n",
    "for column in Malaga_C.columns:\n",
    "    plt.figure(figsize=(50, 10))\n",
    "    plt.plot(Malaga_C.index, Malaga_C[column], marker='o', linestyle='-')\n",
    "    plt.xlabel(\"Tid\")\n",
    "    plt.ylabel(column)\n",
    "    plt.title(f\"Tidsserie af {column} \")\n",
    "    plt.grid()\n",
    "    plt.show()"
   ]
  },
  {
   "cell_type": "code",
   "execution_count": 55,
   "metadata": {},
   "outputs": [],
   "source": [
    "Malaga_C= pd.read_csv(\"Malaga_Window_C_Alldata.csv\")"
   ]
  },
  {
   "cell_type": "code",
   "execution_count": null,
   "metadata": {},
   "outputs": [],
   "source": [
    "Malaga_C.describe()"
   ]
  },
  {
   "cell_type": "markdown",
   "metadata": {},
   "source": [
    "#weather data for Malaga"
   ]
  },
  {
   "cell_type": "code",
   "execution_count": null,
   "metadata": {},
   "outputs": [],
   "source": [
    "Malaga_weather= pd.read_csv(\"Malaga/Weatherdata/Weather data 31_01_2025.txt\", delimiter=\"\\t\",skiprows=1, encoding=\"utf-8\")\n",
    "print(Malaga_weather[1200:].head(20))"
   ]
  },
  {
   "cell_type": "code",
   "execution_count": null,
   "metadata": {},
   "outputs": [],
   "source": [
    "print(Malaga_weather.head())"
   ]
  },
  {
   "cell_type": "code",
   "execution_count": null,
   "metadata": {},
   "outputs": [],
   "source": [
    "Malaga_weather.columns"
   ]
  },
  {
   "cell_type": "code",
   "execution_count": 224,
   "metadata": {},
   "outputs": [],
   "source": [
    "Malaga_weather.columns=['Date', 'Time', 'Temp Out', 'Hi Temp', 'Low Temp', 'Out Hum', 'Dew Pt.', 'Wind Speed', 'Wind Dir',\n",
    "       'Wind Run', 'Hi Speed', 'Hi Dir', 'Wind Chill', 'Heat Index', 'THW Index', 'THSW Index',\n",
    "       'Bar  ', 'Rain', 'Rain Rate', 'Solar Rad.', 'Solar Energy', 'Hi Solar Rad.', 'UV Index', 'UV Dose',\n",
    "       'Hi UV', 'Heat D-D', 'Cool D-D', 'In Temp', 'In Hum', 'In Dew', 'In Heat', 'In EMC',\n",
    "       'In Air Density', 'ET ', 'Wind Samp', 'Wind Tx ', 'ISS Recept', 'Arc. Int.']"
   ]
  },
  {
   "cell_type": "code",
   "execution_count": null,
   "metadata": {},
   "outputs": [],
   "source": [
    "print(Malaga_weather.head())"
   ]
  },
  {
   "cell_type": "code",
   "execution_count": null,
   "metadata": {},
   "outputs": [],
   "source": [
    "Malaga_weather[\"Date\"].head()"
   ]
  },
  {
   "cell_type": "code",
   "execution_count": 227,
   "metadata": {},
   "outputs": [],
   "source": [
    "\n",
    "Malaga_weather[\"Date\"] = pd.to_datetime(Malaga_weather[\"Date\"], format=\"%d/%m/%y\")\n",
    "Malaga_weather[\"Date\"]= Malaga_weather[\"Date\"].dt.strftime(\"%Y-%m-%d\")\n"
   ]
  },
  {
   "cell_type": "code",
   "execution_count": null,
   "metadata": {},
   "outputs": [],
   "source": [
    "Malaga_weather[\"Date\"].head()"
   ]
  },
  {
   "cell_type": "code",
   "execution_count": null,
   "metadata": {},
   "outputs": [],
   "source": [
    "Malaga_weather[\"Time\"].head()"
   ]
  },
  {
   "cell_type": "code",
   "execution_count": 233,
   "metadata": {},
   "outputs": [],
   "source": [
    "Malaga_weather[\"Time\"] = pd.to_datetime(Malaga_weather[\"Date\"].astype(str) + \" \" + Malaga_weather[\"Time\"].astype(str))"
   ]
  },
  {
   "cell_type": "code",
   "execution_count": null,
   "metadata": {},
   "outputs": [],
   "source": [
    "Malaga_weather = Malaga_weather.drop(columns=[\"Date\"])\n",
    "print(Malaga_weather.head())\n",
    "print(Malaga_weather.shape)"
   ]
  },
  {
   "cell_type": "code",
   "execution_count": null,
   "metadata": {},
   "outputs": [],
   "source": [
    "Malaga_weather = Malaga_weather.drop(columns=[\"Date\"])\n",
    "Malaga_weather[\"Time\"] = Malaga_weather[\"Time\"].dt.strftime(\"%Y-%m-%d %H:%M\")\n",
    "print(Malaga_weather.head())\n",
    "print(Malaga_weather.shape)"
   ]
  },
  {
   "cell_type": "code",
   "execution_count": null,
   "metadata": {},
   "outputs": [],
   "source": [
    "Malaga_weather= Malaga_weather.sort_values(by=\"Time\", ascending=True)  \n",
    "print(\"Fisrt timestamp:\", Malaga_weather[\"Time\"].min())\n",
    "print(\"Last timestamp:\",Malaga_weather[\"Time\"].max())\n"
   ]
  },
  {
   "cell_type": "code",
   "execution_count": null,
   "metadata": {},
   "outputs": [],
   "source": [
    "Malaga_weather.dtypes"
   ]
  },
  {
   "cell_type": "code",
   "execution_count": 241,
   "metadata": {},
   "outputs": [],
   "source": [
    "Malaga_weather.replace('---', np.nan, inplace=True)\n",
    "for col in Malaga_weather.columns:\n",
    "    if col not in ['Time', 'Hi Dir', 'Wind Dir']:\n",
    "        Malaga_weather[col] = (Malaga_weather[col].astype(float))"
   ]
  },
  {
   "cell_type": "code",
   "execution_count": null,
   "metadata": {},
   "outputs": [],
   "source": [
    "Malaga_weather.dtypes"
   ]
  },
  {
   "cell_type": "code",
   "execution_count": 244,
   "metadata": {},
   "outputs": [],
   "source": [
    "Malaga_weather.to_csv(\"Malaga_All_weather_Data.csv\", index=False)"
   ]
  },
  {
   "cell_type": "markdown",
   "metadata": {},
   "source": [
    "Merge to one dataset"
   ]
  },
  {
   "cell_type": "code",
   "execution_count": 71,
   "metadata": {},
   "outputs": [],
   "source": [
    "Malaga_A = pd.read_csv(\"Malaga_WindowA_Alldata.csv\", parse_dates=['Time'], index_col='Time')\n",
    "Malaga_B = pd.read_csv(\"Malaga_Window_B_Alldata.csv\", parse_dates=['Time'], index_col='Time')\n",
    "Malaga_C = pd.read_csv(\"Malaga_Window_C_Alldata.csv\", parse_dates=['Time'], index_col='Time')\n",
    "Malaga_weather= pd.read_csv(\"Malaga_All_weather_Data.csv\", parse_dates=['Time'], index_col='Time')\n",
    "\n",
    "start_time = \"2024-07-07 09:09\"\n",
    "end_time = \"2025-01-31 17:06\"\n",
    "\n",
    "\n",
    "Malaga_A_filtered = Malaga_A.loc[start_time:end_time]\n",
    "Malaga_B_filtered = Malaga_B.loc[start_time:end_time]\n",
    "Malaga_C_filtered = Malaga_C.loc[start_time:end_time]\n",
    "Malaga_weather_filtered =Malaga_weather.loc[start_time:end_time]\n"
   ]
  },
  {
   "cell_type": "code",
   "execution_count": null,
   "metadata": {},
   "outputs": [],
   "source": [
    "Malaga_A_filtered.info()"
   ]
  },
  {
   "cell_type": "code",
   "execution_count": null,
   "metadata": {},
   "outputs": [],
   "source": [
    "Malaga_B_filtered.info()"
   ]
  },
  {
   "cell_type": "code",
   "execution_count": null,
   "metadata": {},
   "outputs": [],
   "source": [
    "Malaga_C_filtered.info()"
   ]
  },
  {
   "cell_type": "code",
   "execution_count": null,
   "metadata": {},
   "outputs": [],
   "source": [
    "Malaga_A_filtered.head()"
   ]
  },
  {
   "cell_type": "code",
   "execution_count": null,
   "metadata": {},
   "outputs": [],
   "source": [
    "Malaga_B_filtered.head()"
   ]
  },
  {
   "cell_type": "code",
   "execution_count": null,
   "metadata": {},
   "outputs": [],
   "source": [
    "Malaga_C_filtered.head()"
   ]
  },
  {
   "cell_type": "code",
   "execution_count": null,
   "metadata": {},
   "outputs": [],
   "source": [
    "Malaga_weather_filtered.head()"
   ]
  },
  {
   "cell_type": "code",
   "execution_count": 74,
   "metadata": {},
   "outputs": [],
   "source": [
    "Malaga_weather_resampled =Malaga_weather_filtered.iloc[4:]"
   ]
  },
  {
   "cell_type": "code",
   "execution_count": null,
   "metadata": {},
   "outputs": [],
   "source": [
    "Malaga_weather_resampled = Malaga_weather_resampled.asfreq('30T')"
   ]
  },
  {
   "cell_type": "code",
   "execution_count": null,
   "metadata": {},
   "outputs": [],
   "source": [
    "Malaga_weather_resampled.info()"
   ]
  },
  {
   "cell_type": "code",
   "execution_count": 78,
   "metadata": {},
   "outputs": [],
   "source": [
    "Malaga_weather_resampled= Malaga_weather_resampled.drop(columns=['Solar Energy','In EMC','In Air Density','Wind Samp',\n",
    "       'Wind Tx ', 'ISS Recept', 'Arc. Int.'])"
   ]
  },
  {
   "cell_type": "code",
   "execution_count": 79,
   "metadata": {},
   "outputs": [],
   "source": [
    "Malaga_weather_resampled.loc[(Malaga_weather_resampled[\"Wind Dir\"].isna()) & (Malaga_weather_resampled[\"Wind Speed\"] == 0.0), \"Wind Dir\"] = \"Calm\"\n",
    "Malaga_weather_resampled.loc[(Malaga_weather_resampled[\"Hi Dir\"].isna()) & (Malaga_weather_resampled[\"Hi Speed\"] == 0.0), \"Hi Dir\"] = \"Calm\""
   ]
  },
  {
   "cell_type": "code",
   "execution_count": null,
   "metadata": {},
   "outputs": [],
   "source": [
    "Malaga_weather_resampled.info()"
   ]
  },
  {
   "cell_type": "code",
   "execution_count": null,
   "metadata": {},
   "outputs": [],
   "source": [
    "Malaga_weather_resampled.columns"
   ]
  },
  {
   "cell_type": "code",
   "execution_count": 82,
   "metadata": {},
   "outputs": [],
   "source": [
    "numerical_cols = ['Temp Out', 'Hi Temp', 'Low Temp', 'Out Hum', 'Dew Pt.', 'Wind Chill',\n",
    "       'Heat Index', 'THW Index', 'THSW Index', 'Bar  ', 'Rain', 'Rain Rate',\n",
    "       'Solar Rad.', 'Hi Solar Rad.', 'UV Index', 'UV Dose', 'Hi UV',\n",
    "       'Heat D-D', 'Cool D-D', 'In Temp', 'In Hum', 'In Dew', 'In Heat', 'ET ']\n",
    "wind_cols = ['Wind Dir','Hi Dir','Wind Speed','Hi Speed','Wind Run'] "
   ]
  },
  {
   "cell_type": "code",
   "execution_count": 66,
   "metadata": {},
   "outputs": [],
   "source": [
    "def missing_times(df, start_date, end_date):\n",
    "    expected_time_index = pd.date_range(start=start_date, end=end_date, freq=\"30min\")\n",
    "    missing_times = expected_time_index.difference(df['Time'])\n",
    "    print(\"Missing:\", missing_times)\n",
    "    print(f\"Number of missing timestamps: {len(missing_times)}\")\n",
    "    return missing_times"
   ]
  },
  {
   "cell_type": "code",
   "execution_count": null,
   "metadata": {},
   "outputs": [],
   "source": [
    "def plot_missing_times(m):\n",
    "    plt.figure(figsize=(12, 6))\n",
    "    plt.scatter(m, [1] * len(m), color='blue', marker='|', s=10)\n",
    "    plt.xlabel(\"Time\")\n",
    "    plt.title(\"Missin timestamps\")\n",
    "    plt.yticks([])\n",
    "    plt.xticks(rotation=45)\n",
    "    plt.show()\n",
    "\n",
    "\n",
    "Malaga_weather_resampled=Malaga_weather_resampled.reset_index()\n",
    "Malaga_weather_resampled=Malaga_weather_resampled.dropna()\n",
    "m= missing_times(Malaga_weather_resampled,'2024-07-07 09:30:00','2025-01-31 16:00:00')\n",
    "plot_missing_times(m)\n"
   ]
  },
  {
   "cell_type": "code",
   "execution_count": null,
   "metadata": {},
   "outputs": [],
   "source": [
    "Malaga_weather_resampled=Malaga_weather_resampled.set_index('Time')\n",
    "for column in Malaga_weather_resampled.columns:\n",
    "    plt.figure(figsize=(50, 10))\n",
    "    plt.plot(Malaga_weather_resampled.index, Malaga_weather_resampled[column], marker='o', linestyle='-')\n",
    "    plt.xlabel(\"Tid\")\n",
    "    plt.ylabel(column)\n",
    "    plt.title(f\"Tidsserie af {column} \")\n",
    "    plt.grid()\n",
    "    plt.show()"
   ]
  },
  {
   "cell_type": "code",
   "execution_count": 69,
   "metadata": {},
   "outputs": [],
   "source": [
    "def merge_dfs(df,df2):\n",
    "    data = pd.merge_asof(df,  \n",
    "                          df2,  \n",
    "                          left_index=True, \n",
    "                          right_index=True,\n",
    "                          direction=\"nearest\", \n",
    "                          tolerance=pd.Timedelta(\"2min\")) \n",
    "    return data"
   ]
  },
  {
   "cell_type": "code",
   "execution_count": 94,
   "metadata": {},
   "outputs": [],
   "source": [
    "MalagaA = merge_dfs(Malaga_weather_resampled,Malaga_A_filtered)\n",
    "MalagaB = merge_dfs(Malaga_weather_resampled,Malaga_B_filtered)\n",
    "MalagaC = merge_dfs(Malaga_weather_resampled,Malaga_C_filtered)"
   ]
  },
  {
   "cell_type": "code",
   "execution_count": null,
   "metadata": {},
   "outputs": [],
   "source": [
    "MalagaA.info()"
   ]
  },
  {
   "cell_type": "code",
   "execution_count": null,
   "metadata": {},
   "outputs": [],
   "source": [
    "MalagaA =MalagaA.reset_index()\n",
    "MalagaA =MalagaA.dropna()\n",
    "m= missing_times(MalagaA,'2024-07-07 09:30:00' ,'2025-01-31 16:00:00')\n",
    "plot_missing_times(m)\n"
   ]
  },
  {
   "cell_type": "code",
   "execution_count": null,
   "metadata": {},
   "outputs": [],
   "source": [
    "MalagaA.info()"
   ]
  },
  {
   "cell_type": "code",
   "execution_count": 97,
   "metadata": {},
   "outputs": [],
   "source": [
    "MalagaA= MalagaA.dropna()\n",
    "MalagaB= MalagaB.dropna()\n",
    "MalagaC= MalagaC.dropna()"
   ]
  },
  {
   "cell_type": "code",
   "execution_count": 98,
   "metadata": {},
   "outputs": [],
   "source": [
    "MalagaA =MalagaA.reset_index()\n",
    "MalagaB= MalagaB.reset_index()\n",
    "MalagaC= MalagaC.reset_index()"
   ]
  },
  {
   "cell_type": "code",
   "execution_count": null,
   "metadata": {},
   "outputs": [],
   "source": [
    "MalagaA.info()"
   ]
  },
  {
   "cell_type": "code",
   "execution_count": null,
   "metadata": {},
   "outputs": [],
   "source": [
    "#MalagaA= MalagaA.set_index(\"Time\")\n",
    "for column in MalagaB.columns:\n",
    "    plt.figure(figsize=(50, 10))\n",
    "    plt.plot(MalagaB.index, MalagaB[column], marker='o', linestyle='-')\n",
    "    plt.xlabel(\"Tid\")\n",
    "    plt.ylabel(column)\n",
    "    plt.title(f\"Tidsserie af {column} \")\n",
    "    plt.grid()\n",
    "    plt.show()"
   ]
  },
  {
   "cell_type": "code",
   "execution_count": null,
   "metadata": {},
   "outputs": [],
   "source": [
    "MalagaB= MalagaB.reset_index()\n",
    "m= missing_times(MalagaB,'2024-07-07 09:30:00' ,'2025-01-31 16:00:00')\n",
    "plot_missing_times(m)"
   ]
  },
  {
   "cell_type": "code",
   "execution_count": null,
   "metadata": {},
   "outputs": [],
   "source": [
    "m= missing_times(MalagaC,'2024-07-07 09:30:00' ,'2025-01-31 16:00:00')\n",
    "plot_missing_times(m)"
   ]
  },
  {
   "cell_type": "code",
   "execution_count": 24,
   "metadata": {},
   "outputs": [],
   "source": [
    "weather_columns=['Temp Out', 'Hi Temp', 'Low Temp', 'Out Hum', 'Dew Pt.', 'Wind Speed',\n",
    "       'Wind Dir', 'Wind Run', 'Hi Speed', 'Hi Dir', 'Wind Chill',\n",
    "       'Heat Index', 'THW Index', 'THSW Index', 'Bar  ', 'Rain', 'Rain Rate',\n",
    "       'Solar Rad.', 'Hi Solar Rad.', 'UV Index', 'UV Dose', 'Hi UV',\n",
    "       'Heat D-D', 'Cool D-D', 'In Temp', 'In Hum', 'In Dew', 'In Heat', 'ET ']"
   ]
  },
  {
   "cell_type": "code",
   "execution_count": null,
   "metadata": {},
   "outputs": [],
   "source": [
    "#sensors for the global model\n",
    "Malaga1=MalagaA[['Time'] + weather_columns +['204','211','310','218']]\n",
    "Malaga1_= MalagaB[['Time','214','120','118','220','204','210']]\n",
    "\n",
    "Malaga1.rename(columns={'204': 'Gip Top Center','211': 'Gip Bottom Center', '310':'Outer frame upper - aPV west','218':'Gip uPV west'\n",
    "                        }, inplace=True)\n",
    "Malaga1_.rename(columns={'214':'Clading aPV east','120':'Sash 15 mm below pane', '118':' Gip aPV east corner', \n",
    "                         '220':'Top frame PV east','204':'Outer frame lower - aPV east', '210':'Sash gasket level aPV east'}, inplace=True)                       "
   ]
  },
  {
   "cell_type": "code",
   "execution_count": null,
   "metadata": {},
   "outputs": [],
   "source": [
    "# selects 10 sensors randomly for the robustness analysis\n",
    "\n",
    "Malaga_random=MalagaA[['Time'] + weather_columns +['306','314','302','316','318','304']]\n",
    "Malaga_random1= MalagaB[['Time','114','104','108','102']]\n",
    "\n",
    "Malaga_random.rename(columns={'306': 'Gip aPV west','314': 'Gip uPV east', '302':'Outer frame upper - uPV west','316':'Gip uPV east corner', '318':'Sash 15 mm below pane - uPV east',\n",
    "                        '304': 'Clading uPV west'}, inplace=True)\n",
    "Malaga_random1.rename(columns={'114':'Inner pane spacer - uPV east', '104':'Outer frame upper - uPV east', \n",
    "                         '108':'Sash gasket level - uPV east', '102':'Outer frame lower - uPV east'}, inplace=True)                       "
   ]
  },
  {
   "cell_type": "code",
   "execution_count": 76,
   "metadata": {},
   "outputs": [
    {
     "name": "stdout",
     "output_type": "stream",
     "text": [
      "(7613, 40)\n"
     ]
    }
   ],
   "source": [
    "Malaga1 = pd.merge(Malaga1, Malaga1_, on='Time', how='inner')\n",
    "print(Malaga1.shape)"
   ]
  },
  {
   "cell_type": "code",
   "execution_count": 115,
   "metadata": {},
   "outputs": [
    {
     "name": "stdout",
     "output_type": "stream",
     "text": [
      "(7613, 40)\n"
     ]
    }
   ],
   "source": [
    "Malaga_random = pd.merge(Malaga_random, Malaga_random1, on='Time', how='inner')\n",
    "print(Malaga_random.shape)"
   ]
  },
  {
   "cell_type": "code",
   "execution_count": 77,
   "metadata": {},
   "outputs": [],
   "source": [
    "\n",
    "Malaga1[\"Window_Type\"] = 1 \n",
    "Malaga1[\"Blinds\"] = 1\n",
    "Malaga1[\"Window_ID\"] = 2\n",
    "Malaga1['Latitude']= \n",
    "Malaga1['Longitude']= \n",
    "Malaga1.rename(columns={'ET ': 'ET','Bar  ':'Bar' }, inplace=True)"
   ]
  },
  {
   "cell_type": "code",
   "execution_count": 34,
   "metadata": {},
   "outputs": [],
   "source": [
    "Malaga1.to_csv(\"Malaga1.csv\",index=False)"
   ]
  },
  {
   "cell_type": "code",
   "execution_count": 117,
   "metadata": {},
   "outputs": [],
   "source": [
    "\n",
    "Malaga_random[\"Window_Type\"] = 1 \n",
    "Malaga_random[\"Blinds\"] = 1\n",
    "Malaga_random[\"Window_ID\"] = 2 \n",
    "Malaga_random['Latitude']= \n",
    "Malaga_random['Longitude']=\n",
    "Malaga_random.rename(columns={'ET ': 'ET','Bar  ':'Bar' }, inplace=True)"
   ]
  },
  {
   "cell_type": "code",
   "execution_count": 119,
   "metadata": {},
   "outputs": [],
   "source": [
    "Malaga_random.to_csv(\"Malaga_random.csv\",index=False)"
   ]
  }
 ],
 "metadata": {
  "kernelspec": {
   "display_name": "new_env",
   "language": "python",
   "name": "python3"
  },
  "language_info": {
   "codemirror_mode": {
    "name": "ipython",
    "version": 3
   },
   "file_extension": ".py",
   "mimetype": "text/x-python",
   "name": "python",
   "nbconvert_exporter": "python",
   "pygments_lexer": "ipython3",
   "version": "3.10.13"
  }
 },
 "nbformat": 4,
 "nbformat_minor": 2
}
