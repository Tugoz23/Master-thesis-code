{
 "cells": [
  {
   "cell_type": "code",
   "execution_count": 1,
   "metadata": {},
   "outputs": [],
   "source": [
    "import pandas as pd\n",
    "import matplotlib.pyplot as plt\n",
    "import pvlib\n",
    "from pvlib.irradiance import aoi\n",
    "import numpy as np"
   ]
  },
  {
   "cell_type": "code",
   "execution_count": 2,
   "metadata": {},
   "outputs": [],
   "source": [
    "df_France= pd.read_excel('VK France/VKR France Report_All data fall 2023.xlsx')"
   ]
  },
  {
   "cell_type": "code",
   "execution_count": 3,
   "metadata": {},
   "outputs": [],
   "source": [
    "#removes the two first rows\n",
    "df_France = df_France.iloc[2:].reset_index(drop=True)"
   ]
  },
  {
   "cell_type": "code",
   "execution_count": 4,
   "metadata": {},
   "outputs": [],
   "source": [
    "df_France = df_France.drop(columns=['Black out'])"
   ]
  },
  {
   "cell_type": "code",
   "execution_count": 5,
   "metadata": {},
   "outputs": [],
   "source": [
    "df_France = df_France.rename(columns={'Unnamed: 1': 'Time', 'Unnamed: 2': 'In Temp', 'Unnamed: 3': 'Gip Top Center','Unnamed: 4' : 'Gip Bottom Center','Unnamed: 5':'Cladding uPV East'\t})"
   ]
  },
  {
   "cell_type": "code",
   "execution_count": null,
   "metadata": {},
   "outputs": [],
   "source": [
    "df_France= df_France.drop(columns=['Cladding uPV East'])"
   ]
  },
  {
   "cell_type": "code",
   "execution_count": null,
   "metadata": {},
   "outputs": [],
   "source": [
    "df_France.info()"
   ]
  },
  {
   "cell_type": "code",
   "execution_count": 7,
   "metadata": {},
   "outputs": [],
   "source": [
    "df_France['Time'] = pd.to_datetime(df_France['Time'], format='%d-%m-%Y %H:%M:%S').dt.strftime(\"%Y-%m-%d %H:%M\")"
   ]
  },
  {
   "cell_type": "code",
   "execution_count": 8,
   "metadata": {},
   "outputs": [],
   "source": [
    "df_France['Time'] = pd.to_datetime(df_France['Time'])"
   ]
  },
  {
   "cell_type": "code",
   "execution_count": 9,
   "metadata": {},
   "outputs": [],
   "source": [
    "df_France = df_France.sort_values(by='Time', ascending=True)"
   ]
  },
  {
   "cell_type": "code",
   "execution_count": 10,
   "metadata": {},
   "outputs": [],
   "source": [
    "df_cleaned= df_France.dropna()"
   ]
  },
  {
   "cell_type": "code",
   "execution_count": 11,
   "metadata": {},
   "outputs": [],
   "source": [
    "df_cleaned=df_cleaned.set_index('Time')"
   ]
  },
  {
   "cell_type": "code",
   "execution_count": 12,
   "metadata": {},
   "outputs": [],
   "source": [
    "df_cleaned = df_cleaned.apply(pd.to_numeric, errors='coerce')"
   ]
  },
  {
   "cell_type": "code",
   "execution_count": 13,
   "metadata": {},
   "outputs": [
    {
     "data": {
      "text/html": [
       "<div>\n",
       "<style scoped>\n",
       "    .dataframe tbody tr th:only-of-type {\n",
       "        vertical-align: middle;\n",
       "    }\n",
       "\n",
       "    .dataframe tbody tr th {\n",
       "        vertical-align: top;\n",
       "    }\n",
       "\n",
       "    .dataframe thead th {\n",
       "        text-align: right;\n",
       "    }\n",
       "</style>\n",
       "<table border=\"1\" class=\"dataframe\">\n",
       "  <thead>\n",
       "    <tr style=\"text-align: right;\">\n",
       "      <th></th>\n",
       "      <th>In Temp</th>\n",
       "      <th>Gip Top Center</th>\n",
       "      <th>Gip Bottom Center</th>\n",
       "      <th>Cladding uPV East</th>\n",
       "    </tr>\n",
       "    <tr>\n",
       "      <th>Time</th>\n",
       "      <th></th>\n",
       "      <th></th>\n",
       "      <th></th>\n",
       "      <th></th>\n",
       "    </tr>\n",
       "  </thead>\n",
       "  <tbody>\n",
       "    <tr>\n",
       "      <th>2022-07-07 15:36:00</th>\n",
       "      <td>22.5</td>\n",
       "      <td>22.3</td>\n",
       "      <td>23.1</td>\n",
       "      <td>23.3</td>\n",
       "    </tr>\n",
       "    <tr>\n",
       "      <th>2022-07-07 15:41:00</th>\n",
       "      <td>23.3</td>\n",
       "      <td>22.6</td>\n",
       "      <td>23.4</td>\n",
       "      <td>23.4</td>\n",
       "    </tr>\n",
       "    <tr>\n",
       "      <th>2022-07-07 15:46:00</th>\n",
       "      <td>23.4</td>\n",
       "      <td>22.7</td>\n",
       "      <td>23.4</td>\n",
       "      <td>23.4</td>\n",
       "    </tr>\n",
       "    <tr>\n",
       "      <th>2022-07-07 15:51:00</th>\n",
       "      <td>23.4</td>\n",
       "      <td>22.8</td>\n",
       "      <td>23.4</td>\n",
       "      <td>23.4</td>\n",
       "    </tr>\n",
       "    <tr>\n",
       "      <th>2022-07-07 15:56:00</th>\n",
       "      <td>23.4</td>\n",
       "      <td>22.9</td>\n",
       "      <td>23.4</td>\n",
       "      <td>23.4</td>\n",
       "    </tr>\n",
       "    <tr>\n",
       "      <th>2022-07-07 16:01:00</th>\n",
       "      <td>23.3</td>\n",
       "      <td>22.9</td>\n",
       "      <td>24.1</td>\n",
       "      <td>23.5</td>\n",
       "    </tr>\n",
       "    <tr>\n",
       "      <th>2022-07-07 16:06:00</th>\n",
       "      <td>23.3</td>\n",
       "      <td>22.9</td>\n",
       "      <td>24.2</td>\n",
       "      <td>23.4</td>\n",
       "    </tr>\n",
       "    <tr>\n",
       "      <th>2022-07-07 16:11:00</th>\n",
       "      <td>23.2</td>\n",
       "      <td>23.0</td>\n",
       "      <td>23.7</td>\n",
       "      <td>23.5</td>\n",
       "    </tr>\n",
       "    <tr>\n",
       "      <th>2022-07-07 16:16:00</th>\n",
       "      <td>23.2</td>\n",
       "      <td>23.0</td>\n",
       "      <td>23.5</td>\n",
       "      <td>23.5</td>\n",
       "    </tr>\n",
       "    <tr>\n",
       "      <th>2022-07-07 16:21:00</th>\n",
       "      <td>23.2</td>\n",
       "      <td>23.0</td>\n",
       "      <td>23.5</td>\n",
       "      <td>23.5</td>\n",
       "    </tr>\n",
       "    <tr>\n",
       "      <th>2022-07-07 16:26:00</th>\n",
       "      <td>23.1</td>\n",
       "      <td>23.0</td>\n",
       "      <td>23.5</td>\n",
       "      <td>23.5</td>\n",
       "    </tr>\n",
       "    <tr>\n",
       "      <th>2022-07-07 16:31:00</th>\n",
       "      <td>23.1</td>\n",
       "      <td>23.0</td>\n",
       "      <td>23.5</td>\n",
       "      <td>23.5</td>\n",
       "    </tr>\n",
       "    <tr>\n",
       "      <th>2022-07-07 16:36:00</th>\n",
       "      <td>23.1</td>\n",
       "      <td>23.0</td>\n",
       "      <td>23.5</td>\n",
       "      <td>23.5</td>\n",
       "    </tr>\n",
       "    <tr>\n",
       "      <th>2022-07-07 16:41:00</th>\n",
       "      <td>23.1</td>\n",
       "      <td>23.0</td>\n",
       "      <td>23.5</td>\n",
       "      <td>23.5</td>\n",
       "    </tr>\n",
       "    <tr>\n",
       "      <th>2022-07-07 16:46:00</th>\n",
       "      <td>23.0</td>\n",
       "      <td>23.0</td>\n",
       "      <td>23.5</td>\n",
       "      <td>23.5</td>\n",
       "    </tr>\n",
       "    <tr>\n",
       "      <th>2022-07-07 16:51:00</th>\n",
       "      <td>23.0</td>\n",
       "      <td>23.0</td>\n",
       "      <td>23.5</td>\n",
       "      <td>23.5</td>\n",
       "    </tr>\n",
       "    <tr>\n",
       "      <th>2022-07-07 16:56:00</th>\n",
       "      <td>23.0</td>\n",
       "      <td>23.0</td>\n",
       "      <td>23.5</td>\n",
       "      <td>23.5</td>\n",
       "    </tr>\n",
       "    <tr>\n",
       "      <th>2022-07-07 17:01:00</th>\n",
       "      <td>23.0</td>\n",
       "      <td>23.0</td>\n",
       "      <td>23.5</td>\n",
       "      <td>23.5</td>\n",
       "    </tr>\n",
       "    <tr>\n",
       "      <th>2022-07-07 17:06:00</th>\n",
       "      <td>23.0</td>\n",
       "      <td>23.0</td>\n",
       "      <td>23.5</td>\n",
       "      <td>23.6</td>\n",
       "    </tr>\n",
       "    <tr>\n",
       "      <th>2022-07-07 17:11:00</th>\n",
       "      <td>23.0</td>\n",
       "      <td>23.0</td>\n",
       "      <td>23.5</td>\n",
       "      <td>23.6</td>\n",
       "    </tr>\n",
       "  </tbody>\n",
       "</table>\n",
       "</div>"
      ],
      "text/plain": [
       "                     In Temp  Gip Top Center  Gip Bottom Center  \\\n",
       "Time                                                              \n",
       "2022-07-07 15:36:00     22.5            22.3               23.1   \n",
       "2022-07-07 15:41:00     23.3            22.6               23.4   \n",
       "2022-07-07 15:46:00     23.4            22.7               23.4   \n",
       "2022-07-07 15:51:00     23.4            22.8               23.4   \n",
       "2022-07-07 15:56:00     23.4            22.9               23.4   \n",
       "2022-07-07 16:01:00     23.3            22.9               24.1   \n",
       "2022-07-07 16:06:00     23.3            22.9               24.2   \n",
       "2022-07-07 16:11:00     23.2            23.0               23.7   \n",
       "2022-07-07 16:16:00     23.2            23.0               23.5   \n",
       "2022-07-07 16:21:00     23.2            23.0               23.5   \n",
       "2022-07-07 16:26:00     23.1            23.0               23.5   \n",
       "2022-07-07 16:31:00     23.1            23.0               23.5   \n",
       "2022-07-07 16:36:00     23.1            23.0               23.5   \n",
       "2022-07-07 16:41:00     23.1            23.0               23.5   \n",
       "2022-07-07 16:46:00     23.0            23.0               23.5   \n",
       "2022-07-07 16:51:00     23.0            23.0               23.5   \n",
       "2022-07-07 16:56:00     23.0            23.0               23.5   \n",
       "2022-07-07 17:01:00     23.0            23.0               23.5   \n",
       "2022-07-07 17:06:00     23.0            23.0               23.5   \n",
       "2022-07-07 17:11:00     23.0            23.0               23.5   \n",
       "\n",
       "                     Cladding uPV East  \n",
       "Time                                    \n",
       "2022-07-07 15:36:00               23.3  \n",
       "2022-07-07 15:41:00               23.4  \n",
       "2022-07-07 15:46:00               23.4  \n",
       "2022-07-07 15:51:00               23.4  \n",
       "2022-07-07 15:56:00               23.4  \n",
       "2022-07-07 16:01:00               23.5  \n",
       "2022-07-07 16:06:00               23.4  \n",
       "2022-07-07 16:11:00               23.5  \n",
       "2022-07-07 16:16:00               23.5  \n",
       "2022-07-07 16:21:00               23.5  \n",
       "2022-07-07 16:26:00               23.5  \n",
       "2022-07-07 16:31:00               23.5  \n",
       "2022-07-07 16:36:00               23.5  \n",
       "2022-07-07 16:41:00               23.5  \n",
       "2022-07-07 16:46:00               23.5  \n",
       "2022-07-07 16:51:00               23.5  \n",
       "2022-07-07 16:56:00               23.5  \n",
       "2022-07-07 17:01:00               23.5  \n",
       "2022-07-07 17:06:00               23.6  \n",
       "2022-07-07 17:11:00               23.6  "
      ]
     },
     "execution_count": 13,
     "metadata": {},
     "output_type": "execute_result"
    }
   ],
   "source": [
    "df_cleaned.head(20)"
   ]
  },
  {
   "cell_type": "code",
   "execution_count": null,
   "metadata": {},
   "outputs": [],
   "source": [
    "for column in df_cleaned.columns:\n",
    "    plt.figure(figsize=(50, 10))\n",
    "    plt.plot(df_cleaned.index, df_cleaned[column], marker='o', linestyle='-')\n",
    "    plt.xlabel(\"Tid\")\n",
    "    plt.ylabel(column)\n",
    "    plt.title(f\"Tidsserie af {column} \")\n",
    "    plt.grid()\n",
    "    plt.show()"
   ]
  },
  {
   "cell_type": "code",
   "execution_count": null,
   "metadata": {},
   "outputs": [],
   "source": [
    "df = pd.read_csv('VK France/VKR France Station_Rue_1-7-22_00-00_1_Year_1744728751_v2.csv', encoding='ISO-8859-1',delimiter=',',skiprows=5)"
   ]
  },
  {
   "cell_type": "code",
   "execution_count": null,
   "metadata": {},
   "outputs": [],
   "source": [
    "df.info()"
   ]
  },
  {
   "cell_type": "code",
   "execution_count": 17,
   "metadata": {},
   "outputs": [],
   "source": [
    "df=df[['Date & Time', 'Temp - °C','Hum - %','Dew Point - °C' ,'Avg Wind Speed - m/s','Solar Rad - W/m^2']]"
   ]
  },
  {
   "cell_type": "code",
   "execution_count": 18,
   "metadata": {},
   "outputs": [],
   "source": [
    "df = df.rename(columns={'Date & Time':'Time' ,'Temp - °C': 'Temp Out','Hum - %':'Out Hum','Dew Point - °C':'Dew Pt.' ,'Avg Wind Speed - m/s': 'Wind Speed','Solar Rad - W/m^2': 'Solar Rad.'})"
   ]
  },
  {
   "cell_type": "code",
   "execution_count": null,
   "metadata": {},
   "outputs": [],
   "source": [
    "df.head(20)"
   ]
  },
  {
   "cell_type": "code",
   "execution_count": 20,
   "metadata": {},
   "outputs": [],
   "source": [
    "\n",
    "df['Time'] = pd.to_datetime(df['Time'], format=\"%d/%m/%y %H:%M\").dt.strftime(\"%Y-%m-%d %H:%M\")\n"
   ]
  },
  {
   "cell_type": "code",
   "execution_count": 21,
   "metadata": {},
   "outputs": [],
   "source": [
    "df['Time'] = pd.to_datetime(df['Time'])\n"
   ]
  },
  {
   "cell_type": "code",
   "execution_count": 22,
   "metadata": {},
   "outputs": [],
   "source": [
    "df=df.set_index('Time')"
   ]
  },
  {
   "cell_type": "code",
   "execution_count": null,
   "metadata": {},
   "outputs": [],
   "source": [
    "df.head()"
   ]
  },
  {
   "cell_type": "code",
   "execution_count": 24,
   "metadata": {},
   "outputs": [],
   "source": [
    "df = df.apply(lambda x: x.replace('--', np.nan))"
   ]
  },
  {
   "cell_type": "code",
   "execution_count": 25,
   "metadata": {},
   "outputs": [],
   "source": [
    "df['Temp Out']=df['Temp Out'].str.replace(',', '.')\n",
    "df['Out Hum']=df['Out Hum'].str.replace(',', '.')\n",
    "df['Dew Pt.']=df['Dew Pt.'].str.replace(',', '.')\n",
    "df['Wind Speed']=df['Wind Speed'].str.replace(',', '.')"
   ]
  },
  {
   "cell_type": "code",
   "execution_count": 26,
   "metadata": {},
   "outputs": [],
   "source": [
    "df = df.apply(pd.to_numeric, errors='coerce')"
   ]
  },
  {
   "cell_type": "code",
   "execution_count": 27,
   "metadata": {},
   "outputs": [],
   "source": [
    "df_resampled=df.asfreq('30Min')"
   ]
  },
  {
   "cell_type": "code",
   "execution_count": null,
   "metadata": {},
   "outputs": [],
   "source": [
    "df_resampled"
   ]
  },
  {
   "cell_type": "code",
   "execution_count": 29,
   "metadata": {},
   "outputs": [],
   "source": [
    "merged_df = pd.merge_asof(df_resampled.sort_index(), \n",
    "                          df_cleaned.sort_index(), \n",
    "                          on='Time', \n",
    "                          direction='nearest',\n",
    "                          tolerance=pd.Timedelta('1min')) \n"
   ]
  },
  {
   "cell_type": "code",
   "execution_count": 30,
   "metadata": {},
   "outputs": [],
   "source": [
    "France=merged_df.dropna()"
   ]
  },
  {
   "cell_type": "code",
   "execution_count": 31,
   "metadata": {},
   "outputs": [
    {
     "name": "stdout",
     "output_type": "stream",
     "text": [
      "<class 'pandas.core.frame.DataFrame'>\n",
      "Index: 3357 entries, 320 to 3676\n",
      "Data columns (total 10 columns):\n",
      " #   Column             Non-Null Count  Dtype         \n",
      "---  ------             --------------  -----         \n",
      " 0   Time               3357 non-null   datetime64[ns]\n",
      " 1   Temp Out           3357 non-null   float64       \n",
      " 2   Out Hum            3357 non-null   float64       \n",
      " 3   Dew Pt.            3357 non-null   float64       \n",
      " 4   Wind Speed         3357 non-null   float64       \n",
      " 5   Solar Rad.         3357 non-null   float64       \n",
      " 6   In Temp            3357 non-null   float64       \n",
      " 7   Gip Top Center     3357 non-null   float64       \n",
      " 8   Gip Bottom Center  3357 non-null   float64       \n",
      " 9   Cladding uPV East  3357 non-null   float64       \n",
      "dtypes: datetime64[ns](1), float64(9)\n",
      "memory usage: 288.5 KB\n"
     ]
    }
   ],
   "source": [
    "France.info()"
   ]
  },
  {
   "cell_type": "code",
   "execution_count": 32,
   "metadata": {},
   "outputs": [],
   "source": [
    "France=France.set_index('Time')"
   ]
  },
  {
   "cell_type": "code",
   "execution_count": null,
   "metadata": {},
   "outputs": [],
   "source": [
    "for column in France.columns:\n",
    "    plt.figure(figsize=(50, 10))\n",
    "    plt.plot(France.index, France[column], marker='o', linestyle='-')\n",
    "    plt.xlabel(\"Tid\")\n",
    "    plt.ylabel(column)\n",
    "    plt.title(f\"Tidsserie af {column} \")\n",
    "    plt.grid()\n",
    "    plt.show()"
   ]
  },
  {
   "cell_type": "code",
   "execution_count": 34,
   "metadata": {},
   "outputs": [],
   "source": [
    "France['Longitude']= 1.58768\n",
    "France['Latitude']=50.06788"
   ]
  },
  {
   "cell_type": "code",
   "execution_count": null,
   "metadata": {},
   "outputs": [],
   "source": [
    "France.head()"
   ]
  },
  {
   "cell_type": "code",
   "execution_count": 36,
   "metadata": {},
   "outputs": [],
   "source": [
    "France['Month'] =France.index.month\n",
    "France[\"day_of_year\"] = France.index.dayofyear"
   ]
  },
  {
   "cell_type": "code",
   "execution_count": 37,
   "metadata": {},
   "outputs": [],
   "source": [
    "France[\"Month_sin\"] = np.sin(2 * np.pi * France[\"Month\"] / 12)\n",
    "France[\"Month_cos\"] = np.cos(2 * np.pi * France[\"Month\"] / 12)\n",
    "\n",
    "France[\"day_of_year_sin\"] = np.sin(2 * np.pi * France[\"day_of_year\"] / 365)\n",
    "France[\"day_of_year_cos\"] = np.cos(2 * np.pi * France[\"day_of_year\"] / 365)"
   ]
  },
  {
   "cell_type": "code",
   "execution_count": 38,
   "metadata": {},
   "outputs": [],
   "source": [
    "France[\"minute_of_day\"] =France.index.hour * 60 + France.index.minute\n",
    "\n",
    "#  1440 min = 24 hours\n",
    "France[\"time_sin\"] = np.sin(2 * np.pi * France[\"minute_of_day\"] / 1440)\n",
    "France[\"time_cos\"] = np.cos(2 * np.pi * France[\"minute_of_day\"] / 1440)"
   ]
  },
  {
   "cell_type": "code",
   "execution_count": 39,
   "metadata": {},
   "outputs": [],
   "source": [
    "France=France.reset_index('Time')"
   ]
  },
  {
   "cell_type": "code",
   "execution_count": 40,
   "metadata": {},
   "outputs": [],
   "source": [
    "\n",
    "# calculate the solar position\n",
    "def get_solar_position(row):\n",
    "    solpos = pvlib.solarposition.get_solarposition(row['Time'], row['Latitude'], row['Longitude'])\n",
    "    return pd.Series([solpos['azimuth'].values[0], solpos['apparent_elevation'].values[0]])"
   ]
  },
  {
   "cell_type": "code",
   "execution_count": 41,
   "metadata": {},
   "outputs": [],
   "source": [
    "France[['solar_azimuth', 'solar_elevation']] = France.apply(get_solar_position, axis=1)\n",
    "France['solar_azimuth_sin'] = np.sin(np.deg2rad(France['solar_azimuth']))\n",
    "France['solar_azimuth_cos'] = np.cos(np.deg2rad(France['solar_azimuth']))\n",
    "\n"
   ]
  },
  {
   "cell_type": "code",
   "execution_count": 43,
   "metadata": {},
   "outputs": [],
   "source": [
    "France['window_tilt'] = 23\n",
    "France['window_azimuth'] = 185"
   ]
  },
  {
   "cell_type": "code",
   "execution_count": 45,
   "metadata": {},
   "outputs": [],
   "source": [
    "France['solar_zenith']=  90 - France['solar_elevation']"
   ]
  },
  {
   "cell_type": "code",
   "execution_count": 46,
   "metadata": {},
   "outputs": [],
   "source": [
    "\n",
    "France['aoi'] = aoi(\n",
    "    surface_tilt=France['window_tilt'],\n",
    "    surface_azimuth=France['window_azimuth'],\n",
    "    solar_zenith= France['solar_zenith'],\n",
    "    solar_azimuth=France['solar_azimuth']\n",
    ")"
   ]
  },
  {
   "cell_type": "code",
   "execution_count": 47,
   "metadata": {},
   "outputs": [],
   "source": [
    "France['cos_aoi'] = np.cos(np.radians(France['aoi']))"
   ]
  },
  {
   "cell_type": "code",
   "execution_count": 48,
   "metadata": {},
   "outputs": [],
   "source": [
    "France=France.drop(columns=['aoi','solar_zenith'])"
   ]
  },
  {
   "cell_type": "code",
   "execution_count": 50,
   "metadata": {},
   "outputs": [],
   "source": [
    "France['Location']='France'"
   ]
  },
  {
   "cell_type": "code",
   "execution_count": 52,
   "metadata": {},
   "outputs": [],
   "source": [
    "targets=[ 'Gip Top Center', 'Gip Bottom Center', 'Cladding uPV East']\n",
    "\n",
    "dfs = []\n",
    "\n",
    "for target in targets:\n",
    "    serie=France.copy()      \n",
    "    serie= France.drop(columns=[t for t in targets if t != target])\n",
    "    serie = serie.rename(columns={target: \"sensor_temp\"})\n",
    "    serie[\"sensor_ID\"] = target\n",
    "    serie[\"timeserie_ID\"] =f\"France, {target}\"\n",
    "    dfs.append(serie)\n",
    "\n",
    "\n",
    "df_France = pd.concat(dfs, ignore_index=True)"
   ]
  },
  {
   "cell_type": "code",
   "execution_count": null,
   "metadata": {},
   "outputs": [],
   "source": [
    "df_France.info()"
   ]
  },
  {
   "cell_type": "code",
   "execution_count": 54,
   "metadata": {},
   "outputs": [],
   "source": [
    "df_France['window_area'] = 118*78"
   ]
  },
  {
   "cell_type": "code",
   "execution_count": 55,
   "metadata": {},
   "outputs": [],
   "source": [
    "df_France=df_France.set_index('Time')"
   ]
  },
  {
   "cell_type": "code",
   "execution_count": 56,
   "metadata": {},
   "outputs": [],
   "source": [
    "resampled_groups = []\n",
    "for ts_id, group in df_France.groupby('timeserie_ID'):\n",
    "\n",
    "    group_asfreq = group.asfreq(\"30min\")\n",
    "\n",
    "    group_asfreq['timeserie_ID'] = ts_id\n",
    "\n",
    "    resampled_groups.append(group_asfreq)\n",
    "\n",
    "df_resampled = pd.concat(resampled_groups)\n",
    "df_filtered_timeserie=df_resampled.copy()"
   ]
  },
  {
   "cell_type": "code",
   "execution_count": null,
   "metadata": {},
   "outputs": [],
   "source": [
    "df_filtered_timeserie=df_filtered_timeserie.reset_index('Time')"
   ]
  },
  {
   "cell_type": "code",
   "execution_count": null,
   "metadata": {},
   "outputs": [],
   "source": [
    "\n",
    "df_filtered = df_filtered_timeserie.groupby('sensor_ID').apply(lambda x: x[x['Time'] >= pd.to_datetime('2022-08-01')]).reset_index(drop=True)\n"
   ]
  },
  {
   "cell_type": "code",
   "execution_count": 63,
   "metadata": {},
   "outputs": [],
   "source": [
    "df_filtered.to_csv('france.csv', index=False)"
   ]
  }
 ],
 "metadata": {
  "kernelspec": {
   "display_name": "new_env",
   "language": "python",
   "name": "python3"
  },
  "language_info": {
   "codemirror_mode": {
    "name": "ipython",
    "version": 3
   },
   "file_extension": ".py",
   "mimetype": "text/x-python",
   "name": "python",
   "nbconvert_exporter": "python",
   "pygments_lexer": "ipython3",
   "version": "3.10.13"
  }
 },
 "nbformat": 4,
 "nbformat_minor": 2
}
