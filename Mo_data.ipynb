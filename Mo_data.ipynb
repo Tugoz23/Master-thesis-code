{
 "cells": [
  {
   "cell_type": "code",
   "execution_count": 2,
   "metadata": {},
   "outputs": [],
   "source": [
    "import os\n",
    "import pandas as pd\n",
    "import re\n",
    "import matplotlib.pyplot as plt\n",
    "import numpy as np"
   ]
  },
  {
   "cell_type": "code",
   "execution_count": 3,
   "metadata": {},
   "outputs": [],
   "source": [
    "\n",
    "def load_csv_data(folder_path):\n",
    "\n",
    "# Finds all csv files\n",
    "    csv_files = [file for file in os.listdir(folder_path) if file.endswith(\".csv\")]\n",
    "\n",
    "    csv_files = [os.path.join(folder_path, file) for file in csv_files]\n",
    "    \n",
    "    print(csv_files)\n",
    "\n",
    "\n",
    "    dfs_csv = [ pd.read_csv(file, sep=None) for file in csv_files]\n",
    "\n",
    "    return dfs_csv"
   ]
  },
  {
   "cell_type": "code",
   "execution_count": null,
   "metadata": {},
   "outputs": [],
   "source": [
    "Monpellier_B = load_csv_data('Montpellier/Vindue B')"
   ]
  },
  {
   "cell_type": "code",
   "execution_count": null,
   "metadata": {},
   "outputs": [],
   "source": [
    "print(len(Monpellier_B))\n",
    "for df in Monpellier_B:\n",
    "    print(f\"DataFrame has shape: {df.shape}\")\n",
    "    print(df.columns) "
   ]
  },
  {
   "cell_type": "code",
   "execution_count": 522,
   "metadata": {},
   "outputs": [],
   "source": [
    "MonpellierB_data = pd.concat(\n",
    "    [df.drop(columns=['Sweep #'], errors='ignore') for df in Monpellier_B],\n",
    "    ignore_index=True,\n",
    "    join='outer')"
   ]
  },
  {
   "cell_type": "code",
   "execution_count": 321,
   "metadata": {},
   "outputs": [],
   "source": [
    "MonpellierB_data = MonpellierB_data.iloc[:, :-1]"
   ]
  },
  {
   "cell_type": "code",
   "execution_count": 322,
   "metadata": {},
   "outputs": [],
   "source": [
    "MonpellierB_data.columns = [col if col == \"Time\" else col.split()[1] for col in MonpellierB_data.columns]"
   ]
  },
  {
   "cell_type": "code",
   "execution_count": 323,
   "metadata": {},
   "outputs": [
    {
     "data": {
      "text/plain": [
       "Index(['Time', '101', '102', '103', '104', '105', '106', '107', '108', '109',\n",
       "       '110', '111', '112', '113', '114', '115', '116', '117', '118', '119',\n",
       "       '120', '201', '202', '203', '204', '205', '206', '207', '208', '209',\n",
       "       '210', '211', '212', '213', '214', '215', '216', '217', '218', '219',\n",
       "       '220', '301', '302', '303', '304', '305', '306', '307', '308', '309',\n",
       "       '310', '311', '312', '313', '314', '315', '316', '317', '318', '319',\n",
       "       '320'],\n",
       "      dtype='object')"
      ]
     },
     "execution_count": 323,
     "metadata": {},
     "output_type": "execute_result"
    }
   ],
   "source": [
    "MonpellierB_data.columns"
   ]
  },
  {
   "cell_type": "code",
   "execution_count": 324,
   "metadata": {},
   "outputs": [
    {
     "data": {
      "text/plain": [
       "0    09/05/2024 13:39:02.300\n",
       "1    09/05/2024 13:44:02.303\n",
       "2    09/05/2024 13:49:02.303\n",
       "3    09/05/2024 13:54:02.303\n",
       "4    09/05/2024 13:59:02.303\n",
       "Name: Time, dtype: object"
      ]
     },
     "execution_count": 324,
     "metadata": {},
     "output_type": "execute_result"
    }
   ],
   "source": [
    "MonpellierB_data['Time'].head()"
   ]
  },
  {
   "cell_type": "code",
   "execution_count": 325,
   "metadata": {},
   "outputs": [],
   "source": [
    "MonpellierB_data[\"Time\"] = pd.to_datetime(MonpellierB_data[\"Time\"], format=\"%m/%d/%Y %H:%M:%S.%f\", errors=\"coerce\").dt.strftime(\"%Y-%m-%d %H:%M\")"
   ]
  },
  {
   "cell_type": "code",
   "execution_count": null,
   "metadata": {},
   "outputs": [],
   "source": [
    "\n",
    "df = pd.read_csv('Montpellier/B10.csv', delimiter=\";\", decimal=',')\n",
    "\n",
    "df1 = df.iloc[:1272]     \n",
    "df2 = df.iloc[1272:4728]\n",
    "df3 = df.iloc[4728:10200] \n",
    "df4 = df.iloc[10200:]\n",
    "\n",
    "df1[\"Time\"] = df1[\"Time\"].str.replace(\",\", \".\", regex=True)\n",
    "df3[\"Time\"] = df3[\"Time\"].str.replace(\",\", \".\", regex=True)\n",
    "\n",
    "# ensure correct time format\n",
    "df1[\"Time\"] = pd.to_datetime(df1[\"Time\"], format=\"%m/%d/%Y %H:%M:%S.%f\", errors=\"coerce\").dt.strftime(\"%Y-%m-%d %H:%M\")\n",
    "df3[\"Time\"] = pd.to_datetime(df3[\"Time\"], format=\"%m/%d/%Y %H:%M:%S.%f\", errors=\"coerce\").dt.strftime(\"%Y-%m-%d %H:%M\")\n",
    "\n",
    "\n",
    "df2[\"Time\"] = pd.to_datetime(df2[\"Time\"], format=\"%m/%d/%y %H:%M\", errors=\"coerce\").dt.strftime(\"%Y-%m-%d %H:%M\")\n",
    "df4[\"Time\"] = pd.to_datetime(df4[\"Time\"], format=\"%m/%d/%y %H:%M\", errors=\"coerce\").dt.strftime(\"%Y-%m-%d %H:%M\")\n",
    "\n",
    "#concatenates all the dataframes\n",
    "df_cleaned = pd.concat([df1, df2, df3, df4], ignore_index=True)\n"
   ]
  },
  {
   "cell_type": "code",
   "execution_count": 327,
   "metadata": {},
   "outputs": [],
   "source": [
    "df_cleaned=df_cleaned.drop(columns=['Sweep #'])"
   ]
  },
  {
   "cell_type": "code",
   "execution_count": 328,
   "metadata": {},
   "outputs": [
    {
     "data": {
      "text/plain": [
       "Index(['Time', '101', '102', '103', '104', '105', '106', '107', '108', '109',\n",
       "       '110', '111', '112', '113', '114', '115', '116', '117', '118', '119',\n",
       "       '120', '201', '202', '203', '204', '205', '206', '207', '208', '209',\n",
       "       '210', '211', '212', '213', '214', '215', '216', '217', '218', '219',\n",
       "       '220', '301', '302', '303', '304', '305', '306', '307', '308', '309',\n",
       "       '310', '311', '312', '313', '314', '315', '316', '317', '318', '319',\n",
       "       '320'],\n",
       "      dtype='object')"
      ]
     },
     "execution_count": 328,
     "metadata": {},
     "output_type": "execute_result"
    }
   ],
   "source": [
    "df_cleaned.columns"
   ]
  },
  {
   "cell_type": "code",
   "execution_count": 329,
   "metadata": {},
   "outputs": [],
   "source": [
    "MonpellierB_Alldata = pd.concat([df_cleaned,MonpellierB_data],ignore_index=True,join='outer')"
   ]
  },
  {
   "cell_type": "code",
   "execution_count": 330,
   "metadata": {},
   "outputs": [
    {
     "data": {
      "text/plain": [
       "(65041, 61)"
      ]
     },
     "execution_count": 330,
     "metadata": {},
     "output_type": "execute_result"
    }
   ],
   "source": [
    "MonpellierB_Alldata.shape"
   ]
  },
  {
   "cell_type": "code",
   "execution_count": null,
   "metadata": {},
   "outputs": [],
   "source": [
    "print(MonpellierB_Alldata.info())"
   ]
  },
  {
   "cell_type": "code",
   "execution_count": null,
   "metadata": {},
   "outputs": [],
   "source": [
    "MonpellierB_Alldata[\"Time\"] = pd.to_datetime(MonpellierB_Alldata[\"Time\"], format=\"%Y-%m-%d %H:%M\")  \n",
    "MonpellierB_Alldata= MonpellierB_Alldata.sort_values(by=\"Time\", ascending=True)  \n",
    "print(\"Fist timestamp:\", MonpellierB_Alldata[\"Time\"].min())\n",
    "print(\"Last timestamp:\", MonpellierB_Alldata[\"Time\"].max())\n"
   ]
  },
  {
   "cell_type": "code",
   "execution_count": null,
   "metadata": {},
   "outputs": [],
   "source": [
    "MonpellierB_Alldata.shape"
   ]
  },
  {
   "cell_type": "code",
   "execution_count": 334,
   "metadata": {},
   "outputs": [],
   "source": [
    "MonpellierB_Alldata.to_csv(\"Monpellier_WindowB_Alldata.csv\", index=False)"
   ]
  },
  {
   "cell_type": "code",
   "execution_count": null,
   "metadata": {},
   "outputs": [],
   "source": [
    "print(MonpellierB_Alldata.isna().sum())"
   ]
  },
  {
   "cell_type": "code",
   "execution_count": null,
   "metadata": {},
   "outputs": [],
   "source": [
    "MonpellierB_Alldata= MonpellierB_Alldata.set_index(\"Time\")\n",
    "for column in MonpellierB_Alldata.columns:\n",
    "    plt.figure(figsize=(50, 10))\n",
    "    plt.plot(MonpellierB_Alldata.index, MonpellierB_Alldata[column], marker='o', linestyle='-')\n",
    "    plt.xlabel(\"Tid\")\n",
    "    plt.ylabel(column)\n",
    "    plt.title(f\"Tidsserie af {column} \")\n",
    "    plt.grid()\n",
    "    plt.show()"
   ]
  },
  {
   "cell_type": "code",
   "execution_count": null,
   "metadata": {},
   "outputs": [],
   "source": [
    "Monpellier_A = load_csv_data('Montpellier/Vindue A')"
   ]
  },
  {
   "cell_type": "code",
   "execution_count": null,
   "metadata": {},
   "outputs": [],
   "source": [
    "print(len(Monpellier_A ))\n",
    "for df in Monpellier_A:\n",
    "    print(f\"DataFrame has shape: {df.shape}\")\n",
    "    print(df.columns) "
   ]
  },
  {
   "cell_type": "code",
   "execution_count": 340,
   "metadata": {},
   "outputs": [],
   "source": [
    "MonpellierA_data = pd.concat(\n",
    "    [df.drop(columns=['Sweep #'], errors='ignore') for df in Monpellier_A],\n",
    "    ignore_index=True,\n",
    "    join='outer'\n",
    ")"
   ]
  },
  {
   "cell_type": "code",
   "execution_count": null,
   "metadata": {},
   "outputs": [],
   "source": [
    "MonpellierA_data.columns"
   ]
  },
  {
   "cell_type": "code",
   "execution_count": 342,
   "metadata": {},
   "outputs": [],
   "source": [
    "MonpellierA_data = MonpellierA_data.iloc[:, :-1]"
   ]
  },
  {
   "cell_type": "code",
   "execution_count": 343,
   "metadata": {},
   "outputs": [],
   "source": [
    "MonpellierA_data.columns = [col if col == \"Time\" else col.split()[1] for col in MonpellierA_data.columns]"
   ]
  },
  {
   "cell_type": "code",
   "execution_count": null,
   "metadata": {},
   "outputs": [],
   "source": [
    "MonpellierA_data.columns"
   ]
  },
  {
   "cell_type": "code",
   "execution_count": 345,
   "metadata": {},
   "outputs": [],
   "source": [
    "MonpellierA_data['Time'] = pd.to_datetime(MonpellierA_data['Time'], format=\"%m/%d/%Y %H:%M:%S.%f\").dt.strftime(\"%Y-%m-%d %H:%M\")\n"
   ]
  },
  {
   "cell_type": "code",
   "execution_count": null,
   "metadata": {},
   "outputs": [],
   "source": [
    "print(MonpellierA_data.head())"
   ]
  },
  {
   "cell_type": "code",
   "execution_count": null,
   "metadata": {},
   "outputs": [],
   "source": [
    "MonpellierA_data.info()"
   ]
  },
  {
   "cell_type": "code",
   "execution_count": null,
   "metadata": {},
   "outputs": [],
   "source": [
    "MonpellierA_data[\"Time\"] = pd.to_datetime(MonpellierA_data[\"Time\"], format=\"%Y-%m-%d %H:%M\")  \n",
    "MonpellierA_data= MonpellierA_data.sort_values(by=\"Time\", ascending=True)  \n",
    "print(\"Fist timestamp:\", MonpellierA_data[\"Time\"].min())\n",
    "print(\"Last timestamp:\", MonpellierA_data[\"Time\"].max())\n"
   ]
  },
  {
   "cell_type": "code",
   "execution_count": 349,
   "metadata": {},
   "outputs": [],
   "source": [
    "MonpellierA_data.to_csv(\"Monpellier_WindowA_Alldata.csv\", index=False)"
   ]
  },
  {
   "cell_type": "code",
   "execution_count": null,
   "metadata": {},
   "outputs": [],
   "source": [
    "MonpellierA_data = MonpellierA_data.set_index(\"Time\")\n",
    "for column in MonpellierA_data.columns:\n",
    "    plt.figure(figsize=(50, 10))\n",
    "    plt.plot(MonpellierA_data.index, MonpellierA_data[column], marker='o', linestyle='-')\n",
    "    plt.xlabel(\"Tid\")\n",
    "    plt.ylabel(column)\n",
    "    plt.title(f\"Tidsserie af {column} \")\n",
    "    plt.grid()\n",
    "    plt.show()"
   ]
  },
  {
   "cell_type": "code",
   "execution_count": 164,
   "metadata": {},
   "outputs": [],
   "source": [
    "Monpellier_weather_csv = pd.read_csv('Montpellier/Weather  data/2024_05_1 to 05_15.csv',sep=(';'), header=[0, 1])"
   ]
  },
  {
   "cell_type": "code",
   "execution_count": 165,
   "metadata": {},
   "outputs": [],
   "source": [
    "Monpellier_weather_csv.columns = [' '.join(map(str, col)).strip() for col in Monpellier_weather_csv.columns]"
   ]
  },
  {
   "cell_type": "code",
   "execution_count": null,
   "metadata": {},
   "outputs": [],
   "source": [
    "Monpellier_weather_csv.columns\n"
   ]
  },
  {
   "cell_type": "code",
   "execution_count": 167,
   "metadata": {},
   "outputs": [],
   "source": [
    "Monpellier_weather_csv.columns= ['Unnamed: 0_level_0 Date', 'Unnamed: 1_level_0 Time', 'Temp Out',\n",
    "       'Hi Temp', 'Low Temp', 'Out Hum', 'Dew Pt.', 'Wind Speed', 'Wind Dir',\n",
    "       'Wind Run', 'Hi Speed', 'Hi Dir', 'Wind Chill', 'Heat Index',\n",
    "       'THW Index', 'THSW Index', 'Bar','Rain', 'Rain Rate', 'Solar Rad.', 'Solar Energy',\n",
    "       'Hi Solar Rad.', 'UV Index', 'UV Dose', 'Hi UV', 'Heat D-D',\n",
    "       'Cool D-D', 'In Temp', 'In Hum', 'In Dew', 'In Heat', 'In EMC',\n",
    "       'In Air Density', 'ET', 'Wind Samp', 'Wind Tx',\n",
    "       'ISS Recept', 'Arc. Int.']"
   ]
  },
  {
   "cell_type": "code",
   "execution_count": 168,
   "metadata": {},
   "outputs": [],
   "source": [
    "Monpellier_weather_csv['Unnamed: 0_level_0 Date'] = pd.to_datetime(Monpellier_weather_csv['Unnamed: 0_level_0 Date'], format=\"%d/%m/%Y\").dt.strftime(\"%Y-%m-%d\")\n",
    "Monpellier_weather_csv['Unnamed: 0_level_0 Date'] = pd.to_datetime(Monpellier_weather_csv['Unnamed: 0_level_0 Date'])"
   ]
  },
  {
   "cell_type": "code",
   "execution_count": null,
   "metadata": {},
   "outputs": [],
   "source": [
    "Monpellier_weather_csv.head()"
   ]
  },
  {
   "cell_type": "code",
   "execution_count": 530,
   "metadata": {},
   "outputs": [],
   "source": [
    "\n",
    "def load_excel_data(folder_path):\n",
    "    # Finds all Excel-files (.xls, .xlsx, .xlsm)\n",
    "    exl_files = [file for file in os.listdir(folder_path) if file.endswith((\".xls\", \".xlsx\", \".xlsm\"))]\n",
    "    \n",
    " \n",
    "    exl_files = [os.path.join(folder_path, file) for file in exl_files]\n",
    "    \n",
    "    print(\"Files found:\", exl_files)\n",
    "    \n",
    "    dfs_exl = []\n",
    "    for file in exl_files:\n",
    "        engine = \"openpyxl\" if file.endswith((\".xlsx\", \".xlsm\")) else \"xlrd\"\n",
    "        df = pd.read_excel(file, engine=engine, header=[0, 1])  \n",
    "        dfs_exl.append(df)\n",
    "\n",
    "    return dfs_exl\n"
   ]
  },
  {
   "cell_type": "code",
   "execution_count": 531,
   "metadata": {},
   "outputs": [
    {
     "name": "stdout",
     "output_type": "stream",
     "text": [
      "Filer fundet: ['Montpellier/Weather  data/2024_12_01 to 12_31.xls', 'Montpellier/Weather  data/2024_07_01 to 08_31.xlsx', 'Montpellier/Weather  data/2024_09_01 to 09_30.xlsx', 'Montpellier/Weather  data/2024_03_1 to 04_30.xlsm', 'Montpellier/Weather  data/2024_05_16 to 05_31.xlsx', 'Montpellier/Weather  data/2024_10_01 to  11_30b.xls']\n"
     ]
    }
   ],
   "source": [
    "Monpellier_weather_exl = load_excel_data('Montpellier/Weather  data')"
   ]
  },
  {
   "cell_type": "code",
   "execution_count": 532,
   "metadata": {},
   "outputs": [],
   "source": [
    "for df in Monpellier_weather_exl:\n",
    "    df.columns = [' '.join(map(str, col)).strip() for col in df.columns]\n",
    "\n",
    "Monpellier_weather_data1 = pd.concat(\n",
    "    [df for df in Monpellier_weather_exl],\n",
    "    ignore_index=True,\n",
    "    join='outer'\n",
    ")"
   ]
  },
  {
   "cell_type": "code",
   "execution_count": null,
   "metadata": {},
   "outputs": [],
   "source": [
    "Monpellier_weather_data1.head()"
   ]
  },
  {
   "cell_type": "code",
   "execution_count": null,
   "metadata": {},
   "outputs": [],
   "source": [
    "Monpellier_weather_data1.dtypes"
   ]
  },
  {
   "cell_type": "code",
   "execution_count": null,
   "metadata": {},
   "outputs": [],
   "source": [
    "Monpellier_weather_data1.columns"
   ]
  },
  {
   "cell_type": "code",
   "execution_count": 536,
   "metadata": {},
   "outputs": [],
   "source": [
    "Monpellier_weather_data1.columns=['Unnamed: 0_level_0 Date', 'Unnamed: 1_level_0 Time', 'Temp Out',\n",
    "       'Hi Temp', 'Low Temp', 'Out Hum', 'Dew Pt.', 'Wind Speed', 'Wind Dir',\n",
    "       'Wind Run', 'Hi Speed', 'Hi Dir', 'Wind Chill', 'Heat Index',\n",
    "       'THW Index', 'THSW Index', 'Bar', 'Rain', 'Rain Rate',\n",
    "       'Solar Rad.', 'Solar Energy', 'Hi Solar Rad.', 'UV Index', 'UV Dose',\n",
    "       'Hi UV', 'Heat D-D', 'Cool D-D', 'In Temp', 'In Hum', 'In Dew',\n",
    "       'In Heat', 'In EMC', 'In Air Density', 'ET', 'Wind Samp',\n",
    "       'Wind Tx', 'ISS Recept', 'Arc. Int.']"
   ]
  },
  {
   "cell_type": "code",
   "execution_count": 537,
   "metadata": {},
   "outputs": [],
   "source": [
    "Monpellier_weather_data1['Unnamed: 1_level_0 Time'] = pd.to_datetime(Monpellier_weather_data1['Unnamed: 1_level_0 Time'], format=\"%H:%M:%S\").dt.strftime(\"%H:%M\")"
   ]
  },
  {
   "cell_type": "code",
   "execution_count": 538,
   "metadata": {},
   "outputs": [],
   "source": [
    "df1= pd.read_excel('Montpellier/2024_06_01 to 06_30.xlsx', decimal=\",\", header=[0, 1])  "
   ]
  },
  {
   "cell_type": "code",
   "execution_count": 539,
   "metadata": {},
   "outputs": [],
   "source": [
    "df1.columns = [' '.join(map(str, col)).strip() for col in df1.columns]\n"
   ]
  },
  {
   "cell_type": "code",
   "execution_count": 540,
   "metadata": {},
   "outputs": [],
   "source": [
    "df1[\"Unnamed: 1_level_0 Time\"]= df1[\"Unnamed: 1_level_0 Time\"].str.replace(\",\", \":\")"
   ]
  },
  {
   "cell_type": "code",
   "execution_count": 541,
   "metadata": {},
   "outputs": [],
   "source": [
    "df1['Unnamed: 1_level_0 Time'] = pd.to_datetime(df1['Unnamed: 1_level_0 Time'], format= \"%H:%M:%S\").dt.strftime(\"%H:%M\")"
   ]
  },
  {
   "cell_type": "code",
   "execution_count": null,
   "metadata": {},
   "outputs": [],
   "source": [
    "df1.columns"
   ]
  },
  {
   "cell_type": "code",
   "execution_count": 543,
   "metadata": {},
   "outputs": [],
   "source": [
    "df1.columns=['Unnamed: 0_level_0 Date', 'Unnamed: 1_level_0 Time', 'Temp Out',\n",
    "       'Hi Temp', 'Low Temp', 'Out Hum', 'Dew Pt.', 'Wind Speed', 'Wind Dir',\n",
    "       'Wind Run', 'Hi Speed', 'Hi Dir', 'Wind Chill', 'Heat Index',\n",
    "       'THW Index', 'THSW Index', 'Bar', 'Rain', 'Rain Rate',\n",
    "       'Solar Rad.', 'Solar Energy', 'Hi Solar Rad.', 'UV Index', 'UV Dose',\n",
    "       'Hi UV', 'Heat D-D', 'Cool D-D', 'In Temp', 'In Hum', 'In Dew',\n",
    "       'In Heat', 'In EMC', 'In Air Density', 'ET', 'Wind Samp',\n",
    "       'Wind Tx', 'ISS Recept', 'Arc. Int.']"
   ]
  },
  {
   "cell_type": "code",
   "execution_count": 545,
   "metadata": {},
   "outputs": [],
   "source": [
    "Monpellier_weather_All= pd.concat(\n",
    "    [Monpellier_weather_data1,df1,Monpellier_weather_csv],\n",
    "    ignore_index=True,\n",
    "    join='outer'\n",
    ")"
   ]
  },
  {
   "cell_type": "code",
   "execution_count": null,
   "metadata": {},
   "outputs": [],
   "source": [
    "Monpellier_weather_All.shape"
   ]
  },
  {
   "cell_type": "code",
   "execution_count": null,
   "metadata": {},
   "outputs": [],
   "source": [
    "Monpellier_weather_All.head()"
   ]
  },
  {
   "cell_type": "code",
   "execution_count": null,
   "metadata": {},
   "outputs": [],
   "source": [
    "Monpellier_weather_All.columns"
   ]
  },
  {
   "cell_type": "code",
   "execution_count": 549,
   "metadata": {},
   "outputs": [],
   "source": [
    "Monpellier_weather_All= Monpellier_weather_All.drop(columns=['Solar Energy','In EMC','In Air Density','Wind Samp',\n",
    "       'Wind Tx', 'ISS Recept', 'Arc. Int.'])"
   ]
  },
  {
   "cell_type": "code",
   "execution_count": 550,
   "metadata": {},
   "outputs": [],
   "source": [
    "Monpellier_weather_All[\"Time\"] = pd.to_datetime(Monpellier_weather_All[\"Unnamed: 0_level_0 Date\"].astype(str) + \" \" + Monpellier_weather_All['Unnamed: 1_level_0 Time'].astype(str))"
   ]
  },
  {
   "cell_type": "code",
   "execution_count": null,
   "metadata": {},
   "outputs": [],
   "source": [
    "Monpellier_weather_All.head()"
   ]
  },
  {
   "cell_type": "code",
   "execution_count": null,
   "metadata": {},
   "outputs": [],
   "source": [
    "Monpellier_weather_All = Monpellier_weather_All.drop(columns=[\"Unnamed: 0_level_0 Date\",'Unnamed: 1_level_0 Time'])\n",
    "Monpellier_weather_All[\"Time\"] = Monpellier_weather_All[\"Time\"].dt.strftime(\"%Y-%m-%d %H:%M\")\n",
    "print(Monpellier_weather_All.head())\n",
    "print(Monpellier_weather_All.shape)"
   ]
  },
  {
   "cell_type": "code",
   "execution_count": null,
   "metadata": {},
   "outputs": [],
   "source": [
    "Monpellier_weather_All[\"Time\"] = pd.to_datetime(Monpellier_weather_All[\"Time\"], format=\"%Y-%m-%d %H:%M\")  \n",
    "Monpellier_weather_All= Monpellier_weather_All.sort_values(by=\"Time\", ascending=True)  \n",
    "print(\"Første tidsstempel:\", Monpellier_weather_All[\"Time\"].min())\n",
    "print(\"Sidste tidsstempel:\",Monpellier_weather_All[\"Time\"].max())\n"
   ]
  },
  {
   "cell_type": "code",
   "execution_count": null,
   "metadata": {},
   "outputs": [],
   "source": [
    "Monpellier_weather_All.info()"
   ]
  },
  {
   "cell_type": "code",
   "execution_count": null,
   "metadata": {},
   "outputs": [],
   "source": [
    "Monpellier_weather_All.replace('---', np.nan, inplace=True)\n",
    "for col in Monpellier_weather_All.columns:\n",
    "    if col not in ['Time', 'Hi Dir', 'Wind Dir']:\n",
    "        Monpellier_weather_All[col] = (Monpellier_weather_All[col].astype(float))"
   ]
  },
  {
   "cell_type": "code",
   "execution_count": 556,
   "metadata": {},
   "outputs": [],
   "source": [
    "Monpellier_weather_All.to_csv(\"Monpellier_Allweather_data.csv\", index=False)"
   ]
  },
  {
   "cell_type": "code",
   "execution_count": 62,
   "metadata": {},
   "outputs": [],
   "source": [
    "Monpellier_weather_All=pd.read_csv(\"Monpellier_Allweather_data.csv\")"
   ]
  },
  {
   "cell_type": "code",
   "execution_count": null,
   "metadata": {},
   "outputs": [],
   "source": [
    "Monpellier_weather_All.head()"
   ]
  },
  {
   "cell_type": "code",
   "execution_count": 64,
   "metadata": {},
   "outputs": [],
   "source": [
    "Monpellier_weather_All['Time']= pd.to_datetime(Monpellier_weather_All['Time'], errors='coerce')\n"
   ]
  },
  {
   "cell_type": "code",
   "execution_count": 65,
   "metadata": {},
   "outputs": [],
   "source": [
    "Monpellier_weather_All= Monpellier_weather_All.set_index('Time')\n",
    "start_date = \"2024-06-18 12:30:00\"\n",
    "end_date = \"2024-12-31 23:30\"\n",
    "\n",
    "\n",
    "Monpellier_weather_All_filtered = Monpellier_weather_All.loc[start_date:end_date].reset_index()"
   ]
  },
  {
   "cell_type": "code",
   "execution_count": null,
   "metadata": {},
   "outputs": [],
   "source": [
    "Monpellier_weather_All_filtered.info()"
   ]
  },
  {
   "cell_type": "code",
   "execution_count": 67,
   "metadata": {},
   "outputs": [],
   "source": [
    "Monpellier_weather_All_filtered.loc[(Monpellier_weather_All_filtered[\"Wind Dir\"].isna()) & (Monpellier_weather_All_filtered[\"Wind Speed\"] == 0.0), \"Wind Dir\"] = \"Calm\"\n",
    "Monpellier_weather_All_filtered.loc[(Monpellier_weather_All_filtered[\"Hi Dir\"].isna()) & (Monpellier_weather_All_filtered[\"Hi Speed\"] == 0.0), \"Hi Dir\"] = \"Calm\""
   ]
  },
  {
   "cell_type": "code",
   "execution_count": 68,
   "metadata": {},
   "outputs": [
    {
     "name": "stderr",
     "output_type": "stream",
     "text": [
      "/var/folders/54/r707pzsj7254h2zz2tx96pwc0000gn/T/ipykernel_39695/4265637819.py:2: FutureWarning: 'T' is deprecated and will be removed in a future version, please use 'min' instead.\n",
      "  Monpellier_weather_filtered= Monpellier_weather_All_filtered.asfreq(\"30T\")\n"
     ]
    }
   ],
   "source": [
    "Monpellier_weather_All_filtered= Monpellier_weather_All_filtered.set_index(\"Time\")\n",
    "Monpellier_weather_filtered= Monpellier_weather_All_filtered.asfreq(\"30T\")"
   ]
  },
  {
   "cell_type": "code",
   "execution_count": 20,
   "metadata": {},
   "outputs": [],
   "source": [
    "Mf=Monpellier_weather_filtered.reset_index()\n",
    "Mf=Mf.dropna()"
   ]
  },
  {
   "cell_type": "code",
   "execution_count": 21,
   "metadata": {},
   "outputs": [],
   "source": [
    "def missing_times(df, start_date, end_date):\n",
    "    expected_time_index = pd.date_range(start=start_date, end=end_date, freq=\"30min\")\n",
    "    missing_times = expected_time_index.difference(df['Time'])\n",
    "    print(\"Missing:\", missing_times)\n",
    "    print(f\"Number of missing times: {len(missing_times)}\")\n",
    "    return missing_times"
   ]
  },
  {
   "cell_type": "code",
   "execution_count": null,
   "metadata": {},
   "outputs": [],
   "source": [
    "\n",
    "\n",
    "def plot_missing_times(m):\n",
    "    plt.figure(figsize=(12, 6))\n",
    "    plt.scatter(m, [1] * len(m), color='blue', marker='|', s=10)\n",
    "    plt.xlabel(\"Time\")\n",
    "    plt.title(\"Missing timestamps\")\n",
    "    plt.yticks([])\n",
    "    plt.xticks(rotation=45)\n",
    "    plt.show()\n",
    "\n",
    "m= missing_times(Mf,'2024-06-18 12:30:00','2024-12-31 23:30:00')\n",
    "plot_missing_times(m)\n"
   ]
  },
  {
   "cell_type": "code",
   "execution_count": null,
   "metadata": {},
   "outputs": [],
   "source": [
    "\n",
    "\n",
    "Mf=Mf.set_index('Time')\n",
    "df_filtered = Mf.between_time(\"09:30\", \"12:00\")\n",
    "\n",
    "\n",
    "df_plot = Mf.copy()  \n",
    "df_plot.loc[~df_plot.index.isin(df_filtered.index)] = float(\"nan\") \n",
    "\n",
    "\n",
    "for column in df_plot.select_dtypes(include=['float64', 'int64']).columns:\n",
    "    plt.figure(figsize=(20, 6))  \n",
    "    plt.plot(df_plot.index, df_plot[column], linestyle=\"-\", label=column)  \n",
    "    plt.xlabel(\"Time\")\n",
    "    plt.ylabel(\"Value\")\n",
    "    plt.title(f\"Timeseries plot for {column} between 23:30 and 00:30\")\n",
    "    plt.legend()\n",
    "    plt.xticks(rotation=45)\n",
    "    plt.grid(True)\n",
    "\n",
    "\n",
    "    plt.show()\n"
   ]
  },
  {
   "cell_type": "code",
   "execution_count": 69,
   "metadata": {},
   "outputs": [],
   "source": [
    "numerical_cols = ['Temp Out', 'Hi Temp', 'Low Temp', 'Out Hum', 'Dew Pt.', 'Wind Chill',\n",
    "       'Heat Index', 'THW Index', 'THSW Index', 'Bar', 'Rain', 'Rain Rate',\n",
    "       'Solar Rad.', 'Hi Solar Rad.', 'UV Index', 'UV Dose', 'Hi UV',\n",
    "       'Heat D-D', 'Cool D-D', 'In Temp', 'In Hum', 'In Dew', 'In Heat', 'ET']\n",
    "wind_cols = ['Wind Dir','Hi Dir','Wind Speed','Hi Speed','Wind Run'] "
   ]
  },
  {
   "cell_type": "code",
   "execution_count": 70,
   "metadata": {},
   "outputs": [
    {
     "name": "stderr",
     "output_type": "stream",
     "text": [
      "/var/folders/54/r707pzsj7254h2zz2tx96pwc0000gn/T/ipykernel_39695/904792033.py:1: FutureWarning: 'T' is deprecated and will be removed in a future version, please use 'min' instead.\n",
      "  Monpellier_weather_filtered= Monpellier_weather_filtered.asfreq(\"30T\")\n"
     ]
    }
   ],
   "source": [
    "Monpellier_weather_filtered= Monpellier_weather_filtered.asfreq(\"30T\")\n",
    "Monpellier_weather_filtered[numerical_cols] = Monpellier_weather_filtered[numerical_cols].interpolate(limit=4, limit_area='inside')\n",
    "Monpellier_weather_filtered[wind_cols] = Monpellier_weather_filtered[wind_cols].ffill(limit=2).bfill(limit=2)"
   ]
  },
  {
   "cell_type": "code",
   "execution_count": 71,
   "metadata": {},
   "outputs": [
    {
     "data": {
      "text/plain": [
       "(9322, 29)"
      ]
     },
     "execution_count": 71,
     "metadata": {},
     "output_type": "execute_result"
    }
   ],
   "source": [
    "Monpellier_weather_filtered=Monpellier_weather_filtered.dropna()\n",
    "Monpellier_weather_filtered.shape"
   ]
  },
  {
   "cell_type": "code",
   "execution_count": null,
   "metadata": {},
   "outputs": [],
   "source": [
    "\n",
    "for column in Monpellier_weather_filtered.columns:\n",
    "    plt.figure(figsize=(50, 10))\n",
    "    plt.plot(Monpellier_weather_filtered.index, Monpellier_weather_filtered[column], marker='o', linestyle='-')\n",
    "    plt.xlabel(\"Tid\")\n",
    "    plt.ylabel(column)\n",
    "    plt.title(f\"Tidsseries of {column} \")\n",
    "    plt.grid()\n",
    "    plt.show()"
   ]
  },
  {
   "cell_type": "code",
   "execution_count": 72,
   "metadata": {},
   "outputs": [],
   "source": [
    "MonpellierA_data= pd.read_csv(\"Monpellier_WindowA_Alldata.csv\")"
   ]
  },
  {
   "cell_type": "code",
   "execution_count": null,
   "metadata": {},
   "outputs": [],
   "source": [
    "MonpellierA_data.columns"
   ]
  },
  {
   "cell_type": "code",
   "execution_count": 74,
   "metadata": {},
   "outputs": [],
   "source": [
    "MonpellierA_data= MonpellierA_data.set_index('Time')\n",
    "start_date = '2024-06-18 12:30:00'\n",
    "end_date = \"2024-12-31 23:30\"\n",
    "\n",
    "MonpellierA_data = MonpellierA_data.loc[start_date:end_date].reset_index()"
   ]
  },
  {
   "cell_type": "code",
   "execution_count": 75,
   "metadata": {},
   "outputs": [],
   "source": [
    "MonpellierA_data['Time']= pd.to_datetime(MonpellierA_data['Time'], errors='coerce')\n"
   ]
  },
  {
   "cell_type": "code",
   "execution_count": null,
   "metadata": {},
   "outputs": [],
   "source": [
    "MonpellierA_data.info()"
   ]
  },
  {
   "cell_type": "code",
   "execution_count": 33,
   "metadata": {},
   "outputs": [],
   "source": [
    "MonpellierB_Alldata= pd.read_csv(\"Monpellier_WindowB_Alldata.csv\")"
   ]
  },
  {
   "cell_type": "code",
   "execution_count": 34,
   "metadata": {},
   "outputs": [],
   "source": [
    "MonpellierB_Alldata['Time']= pd.to_datetime(MonpellierB_Alldata['Time'], errors='coerce')"
   ]
  },
  {
   "cell_type": "code",
   "execution_count": 35,
   "metadata": {},
   "outputs": [],
   "source": [
    "MonpellierB_Alldata= MonpellierB_Alldata.set_index('Time')\n",
    "start_date = '2024-06-18 12:30:00'\n",
    "end_date = \"2024-12-31 23:30\"\n",
    "\n",
    "\n",
    "MonpellierB_Alldata = MonpellierB_Alldata.loc[start_date:end_date].reset_index()"
   ]
  },
  {
   "cell_type": "code",
   "execution_count": null,
   "metadata": {},
   "outputs": [],
   "source": [
    "MonpellierB_Alldata.info()"
   ]
  },
  {
   "cell_type": "code",
   "execution_count": null,
   "metadata": {},
   "outputs": [],
   "source": [
    "MonpellierB_Alldata.head(10)"
   ]
  },
  {
   "cell_type": "code",
   "execution_count": null,
   "metadata": {},
   "outputs": [],
   "source": [
    "#selects the sensors placed at the APX window\n",
    "MonpellierD1 = MonpellierA_data[['Time','201','202','204','203','205','206','207','208','209']]\n",
    "\n",
    "MonpellierD1.rename(columns={'202': 'Gip Top Center','201': 'Gip Bottom Center', '204':'Clading aPV east', '203':'Sash 15 mm below pane',\n",
    "                             '205': 'Sash gasket level - aPV east','206': 'Outer frame upper - aPV west', '207':'Top frame aPV west','208':'Top cladding - top center','209':'Blind C room'}, inplace=True)\n"
   ]
  },
  {
   "cell_type": "code",
   "execution_count": 78,
   "metadata": {},
   "outputs": [],
   "source": [
    "MonpellierD1=MonpellierD1.set_index('Time')"
   ]
  },
  {
   "cell_type": "code",
   "execution_count": 79,
   "metadata": {},
   "outputs": [],
   "source": [
    "#merges the sensor data with weather data,condition: max 2 min difference\n",
    "def merge_dfs(df,df2):\n",
    "    data = pd.merge_asof(df, \n",
    "                          df2,\n",
    "                          left_index=True, \n",
    "                          right_index=True,\n",
    "                          direction=\"nearest\",  \n",
    "                          tolerance=pd.Timedelta(\"2min\"))  \n",
    "    return data"
   ]
  },
  {
   "cell_type": "code",
   "execution_count": 82,
   "metadata": {},
   "outputs": [],
   "source": [
    "data= merge_dfs(Monpellier_weather_filtered,MonpellierD1)"
   ]
  },
  {
   "cell_type": "code",
   "execution_count": null,
   "metadata": {},
   "outputs": [],
   "source": [
    "targets=[ 'Gip Bottom Center', 'Gip Top Center', 'Clading aPV east',\n",
    "       'Sash 15 mm below pane', 'Sash gasket level - aPV east',\n",
    "       'Outer frame upper - aPV west', 'Top frame aPV west',\n",
    "       'Top cladding - top center', 'Blind C room']\n",
    "\n",
    "data= data.asfreq(\"30T\")\n",
    "data[targets] = data[targets].interpolate(limit=8, limit_area='inside')\n",
    "data=data.dropna()"
   ]
  },
  {
   "cell_type": "code",
   "execution_count": 94,
   "metadata": {},
   "outputs": [],
   "source": [
    "data=data.reset_index()"
   ]
  },
  {
   "cell_type": "code",
   "execution_count": 88,
   "metadata": {},
   "outputs": [],
   "source": [
    "data[\"Window_Type\"]=1\n",
    "data[\"Blinds\"] = 1\n",
    "data[\"Window_ID\"] = 8 \n",
    "data['Latitude'] = 43.63514 \n",
    "data['Longitude'] = 3.86464 "
   ]
  },
  {
   "cell_type": "code",
   "execution_count": null,
   "metadata": {},
   "outputs": [],
   "source": [
    "data.info()"
   ]
  },
  {
   "cell_type": "code",
   "execution_count": 96,
   "metadata": {},
   "outputs": [],
   "source": [
    "data.to_csv(\"Data_Monpellier.csv\",index=False)"
   ]
  }
 ],
 "metadata": {
  "kernelspec": {
   "display_name": "new_env",
   "language": "python",
   "name": "python3"
  },
  "language_info": {
   "codemirror_mode": {
    "name": "ipython",
    "version": 3
   },
   "file_extension": ".py",
   "mimetype": "text/x-python",
   "name": "python",
   "nbconvert_exporter": "python",
   "pygments_lexer": "ipython3",
   "version": "3.10.13"
  }
 },
 "nbformat": 4,
 "nbformat_minor": 2
}
