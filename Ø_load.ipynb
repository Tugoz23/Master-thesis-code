{
 "cells": [
  {
   "cell_type": "code",
   "execution_count": 10,
   "metadata": {},
   "outputs": [],
   "source": [
    "import re\n",
    "import pandas as pd\n",
    "import matplotlib.pyplot as plt\n",
    "import numpy as np\n",
    "import os"
   ]
  },
  {
   "cell_type": "code",
   "execution_count": 3,
   "metadata": {},
   "outputs": [],
   "source": [
    "\n",
    "def load_csv_data(folder_path):\n",
    "\n",
    "    #finds teh csv files\n",
    "    csv_files = [file for file in os.listdir(folder_path) if file.endswith(\".csv\")]\n",
    "\n",
    "\n",
    "    csv_files = [os.path.join(folder_path, file) for file in csv_files]\n",
    "\n",
    "# print the found files\n",
    "    print(csv_files)\n",
    "\n",
    "    dfs_csv = [pd.read_csv(file, sep=None, encoding=\"utf-16\", skiprows =60) for file in csv_files]\n",
    "\n",
    "    return dfs_csv"
   ]
  },
  {
   "cell_type": "code",
   "execution_count": 58,
   "metadata": {},
   "outputs": [],
   "source": [
    "\n",
    "df1= pd.read_excel('Østbirk/Raw data/2022_08_30 to 09_20.xlsx')\n",
    "df1= df1.drop(columns=['Scan'])\n",
    "        \n",
    "df2= pd.read_excel('Østbirk/Raw data/2022_11_03 to 2023_02_07.xlsx')\n",
    "df3=pd.read_excel('Østbirk/Raw data/2023_02_09 to 06_16.xlsx')\n",
    "\n",
    "df3= df3.drop(columns=['Scan'])"
   ]
  },
  {
   "cell_type": "code",
   "execution_count": null,
   "metadata": {},
   "outputs": [],
   "source": [
    "print(df1.shape)\n",
    "print(df2.shape)\n",
    "print(df3.shape)\n",
    "all_ex_data = pd.concat([df1,df2,df3],ignore_index=True,join='outer')\n",
    "print(all_ex_data.shape)\n"
   ]
  },
  {
   "cell_type": "code",
   "execution_count": null,
   "metadata": {},
   "outputs": [],
   "source": [
    "all_ex_data['Time'] = pd.to_datetime(all_ex_data['Time'], format=\"%d-%m-%Y %H:%M:%S:%f\").dt.strftime(\"%Y-%m-%d %H:%M\")\n",
    "print(all_ex_data.head(5))"
   ]
  },
  {
   "cell_type": "code",
   "execution_count": null,
   "metadata": {},
   "outputs": [],
   "source": [
    "dfs_csv = load_csv_data('Østbirk/Raw data')\n",
    "print(len(dfs_csv))\n",
    "for df in dfs_csv:\n",
    "    print(f\"DataFrame shape {df.shape}\")\n"
   ]
  },
  {
   "cell_type": "code",
   "execution_count": null,
   "metadata": {},
   "outputs": [],
   "source": [
    "all_csv_data = pd.concat(\n",
    "    [df.drop(columns=['Scan'], errors='ignore') for df in dfs_csv],\n",
    "    ignore_index=True,\n",
    "    join='outer')\n",
    "\n",
    "print(all_csv_data.shape)\n",
    "print(all_csv_data.columns)"
   ]
  },
  {
   "cell_type": "code",
   "execution_count": null,
   "metadata": {},
   "outputs": [],
   "source": [
    "all_csv_data['Time'] = pd.to_datetime(all_csv_data['Time'], format='%d-%m-%Y %H:%M:%S').dt.strftime(\"%Y-%m-%d %H:%M\")\n",
    "print(all_csv_data['Time'].head(5))"
   ]
  },
  {
   "cell_type": "code",
   "execution_count": null,
   "metadata": {},
   "outputs": [],
   "source": [
    "raw_data_Østbirk = pd.concat([all_csv_data, all_ex_data], ignore_index=True, join='outer')\n",
    "print(raw_data_Østbirk.shape)"
   ]
  },
  {
   "cell_type": "code",
   "execution_count": null,
   "metadata": {},
   "outputs": [],
   "source": [
    "raw_data_Østbirk.columns = [col if col == \"Time\" else col.split()[0] for col in raw_data_Østbirk.columns]\n",
    "\n",
    "raw_data_Østbirk = raw_data_Østbirk.sort_values(by='Time', ascending=True)\n",
    "raw_data_Østbirk = raw_data_Østbirk.reset_index(drop=True)\n",
    "print(raw_data_Østbirk.head(10))"
   ]
  },
  {
   "cell_type": "code",
   "execution_count": null,
   "metadata": {},
   "outputs": [],
   "source": [
    "raw_data_Østbirk.dtypes"
   ]
  },
  {
   "cell_type": "code",
   "execution_count": 67,
   "metadata": {},
   "outputs": [],
   "source": [
    "for col in raw_data_Østbirk.columns:\n",
    "    if col != \"Time\":  \n",
    "        raw_data_Østbirk[col] = (\n",
    "            raw_data_Østbirk[col]\n",
    "            .astype(str)  \n",
    "            .str.replace(\",\", \".\", regex=True) \n",
    "            .str.strip()\n",
    "            .replace([\"None\", \"\"], np.nan) \n",
    "            .astype(float)  # convert to float\n",
    "        )"
   ]
  },
  {
   "cell_type": "code",
   "execution_count": null,
   "metadata": {},
   "outputs": [],
   "source": [
    "print(raw_data_Østbirk.dtypes)\n",
    "print(raw_data_Østbirk.info())"
   ]
  },
  {
   "cell_type": "code",
   "execution_count": 70,
   "metadata": {},
   "outputs": [],
   "source": [
    "raw_data_Østbirk.to_csv('all_rawData_Østbirk_sortedTime.csv', index=False)"
   ]
  },
  {
   "cell_type": "markdown",
   "metadata": {},
   "source": [
    "Weather data"
   ]
  },
  {
   "cell_type": "code",
   "execution_count": null,
   "metadata": {},
   "outputs": [],
   "source": [
    "df4= pd.read_csv('Østbirk/Weather data/2023_05_15 to 2024_05_15.csv', encoding='ISO-8859-1', sep=\",\", skiprows =5)\n",
    "df5 =pd.read_csv('Østbirk/Weather data/2024_05_01 to 2025_01_30.csv', encoding='ISO-8859-1', sep=\",\", skiprows =5)\n",
    "\n",
    "print(df4.shape)\n",
    "print(df5.shape)"
   ]
  },
  {
   "cell_type": "code",
   "execution_count": null,
   "metadata": {},
   "outputs": [],
   "source": [
    "all_weather_data = pd.concat([df4,df5,],ignore_index=True,join='outer')\n",
    "print(all_weather_data.shape)\n",
    "print(all_weather_data.head())"
   ]
  },
  {
   "cell_type": "code",
   "execution_count": null,
   "metadata": {},
   "outputs": [],
   "source": [
    "\n",
    "all_weather_data['Date & Time'] = pd.to_datetime(all_weather_data['Date & Time'], format=\"%d/%m/%y %H:%M\").dt.strftime(\"%Y-%m-%d %H:%M\")\n",
    "\n",
    "# Sort DataFrame by 'time' \n",
    "all_weather_data= all_weather_data.sort_values(by='Date & Time', ascending=True)\n",
    "\n",
    "all_weather_data = all_weather_data.reset_index(drop=True)\n",
    "all_weather_data.rename(columns={\"Date & Time\": \"Time\"}, inplace=True)\n",
    "\n",
    "\n",
    "print(all_weather_data['Time'].head())\n",
    "print(all_weather_data.shape)\n",
    "print(all_weather_data.dtypes)"
   ]
  },
  {
   "cell_type": "code",
   "execution_count": null,
   "metadata": {},
   "outputs": [],
   "source": [
    "all_weather_data.replace(\"--\", np.nan, inplace=True)\n",
    "for col in all_weather_data.columns:\n",
    "    if col != 'Time' and col != 'High Wind Direction' and col != 'Prevailing Wind Direction':  #r\n",
    "        all_weather_data[col] = (\n",
    "            all_weather_data[col]\n",
    "            .astype(str) \n",
    "            .str.replace(\",\", \".\", regex=True) \n",
    "            .str.strip()  \n",
    "            .astype(float) \n",
    "        )"
   ]
  },
  {
   "cell_type": "code",
   "execution_count": null,
   "metadata": {},
   "outputs": [],
   "source": [
    "all_weather_data.to_csv('Østbirk_Allweather_data_sortedTime.csv', index=False)"
   ]
  },
  {
   "cell_type": "markdown",
   "metadata": {},
   "source": [
    "Merge the datasets"
   ]
  },
  {
   "cell_type": "code",
   "execution_count": null,
   "metadata": {},
   "outputs": [],
   "source": [
    "raw_data_Østbirk= pd.read_csv('all_rawData_Østbirk_sortedTime.csv')\n",
    "raw_data_Østbirk['Time'] = pd.to_datetime(raw_data_Østbirk['Time'], errors='coerce')\n",
    "(raw_data_Østbirk.dtypes)"
   ]
  },
  {
   "cell_type": "code",
   "execution_count": null,
   "metadata": {},
   "outputs": [],
   "source": [
    "first_time = raw_data_Østbirk[\"Time\"].iloc[0]\n",
    "last_time = raw_data_Østbirk[\"Time\"].iloc[-1]\n",
    "print(\"Firt timestamp:\", first_time)\n",
    "print(\"Last timestamp:\", last_time)"
   ]
  },
  {
   "cell_type": "code",
   "execution_count": 14,
   "metadata": {},
   "outputs": [],
   "source": [
    "all_weather_data= pd.read_csv('Østbirk_Allweather_data_sortedTime.csv')"
   ]
  },
  {
   "cell_type": "code",
   "execution_count": null,
   "metadata": {},
   "outputs": [],
   "source": [
    "first_time = all_weather_data[\"Time\"].iloc[0]\n",
    "last_time = all_weather_data[\"Time\"].iloc[-1]\n",
    "print(\"First timestamp:\", first_time)\n",
    "print(\"Last timestamp:\", last_time)"
   ]
  },
  {
   "cell_type": "code",
   "execution_count": null,
   "metadata": {},
   "outputs": [],
   "source": [
    "raw_data_Østbirk= raw_data_Østbirk.set_index(\"Time\")\n",
    "raw_data_filtered = raw_data_Østbirk.loc[\"2023-05-15 11:30\":]\n",
    "print(raw_data_filtered.index.min())  \n",
    "print(raw_data_filtered.index.max())  "
   ]
  },
  {
   "cell_type": "code",
   "execution_count": null,
   "metadata": {},
   "outputs": [],
   "source": [
    "for column in raw_data_filtered.columns:\n",
    "    plt.figure(figsize=(50, 10))\n",
    "    plt.plot(raw_data_filtered.index, raw_data_filtered[column], marker='o', linestyle='-')\n",
    "    plt.xlabel(\"Tid\")\n",
    "    plt.ylabel(column)\n",
    "    plt.title(f\"Tidsserie af {column} \")\n",
    "    plt.grid()\n",
    "    plt.show()"
   ]
  },
  {
   "cell_type": "code",
   "execution_count": 20,
   "metadata": {},
   "outputs": [],
   "source": [
    "start_date = \"2023-05-15 11:30\"\n",
    "end_date = \"2023-11-30\"\n",
    "raw_data_filtered= raw_data_filtered.loc[start_date:end_date]"
   ]
  },
  {
   "cell_type": "code",
   "execution_count": null,
   "metadata": {},
   "outputs": [],
   "source": [
    "print(raw_data_filtered.index.min())  \n",
    "print(raw_data_filtered.index.max())  "
   ]
  },
  {
   "cell_type": "code",
   "execution_count": 22,
   "metadata": {},
   "outputs": [],
   "source": [
    "raw_data_filtered = raw_data_filtered.reset_index()"
   ]
  },
  {
   "cell_type": "code",
   "execution_count": 24,
   "metadata": {},
   "outputs": [],
   "source": [
    "all_weather_data.set_index(\"Time\", inplace=True)\n",
    "start_date = \"2023-05-15 11:30\"\n",
    "end_date = \"2023-11-30 21:40\"\n",
    "\n",
    "Østbirk_weather_filtered = all_weather_data.loc[start_date:end_date].reset_index()"
   ]
  },
  {
   "cell_type": "code",
   "execution_count": null,
   "metadata": {},
   "outputs": [],
   "source": [
    "#finds missing times\n",
    "Østbirk_weather_filtered[\"Time\"] = pd.to_datetime(Østbirk_weather_filtered[\"Time\"])\n",
    "\n",
    "\n",
    "expected_time_index = pd.date_range(start=start_date, end=end_date, freq=\"30min\")\n",
    "\n",
    "\n",
    "missing_times = expected_time_index.difference(Østbirk_weather_filtered[\"Time\"])\n",
    "\n",
    "\n",
    "print(\"Manglende tidspunkter:\", missing_times)\n",
    "print(f\"Antal manglende tidspunkter: {len(missing_times)}\")\n"
   ]
  },
  {
   "cell_type": "code",
   "execution_count": 26,
   "metadata": {},
   "outputs": [],
   "source": [
    "\n",
    "Østbirk_weather_filtered= Østbirk_weather_filtered.set_index(\"Time\") \n",
    "Østbirk_weather_filtered = Østbirk_weather_filtered.asfreq('30min')\n",
    "Østbirk_weather_filtered = Østbirk_weather_filtered.reset_index()"
   ]
  },
  {
   "cell_type": "code",
   "execution_count": 27,
   "metadata": {},
   "outputs": [],
   "source": [
    "Østbirk_weather_filtered= Østbirk_weather_filtered.iloc[1:]"
   ]
  },
  {
   "cell_type": "code",
   "execution_count": null,
   "metadata": {},
   "outputs": [],
   "source": [
    "print(Østbirk_weather_filtered.isna().sum())"
   ]
  },
  {
   "cell_type": "code",
   "execution_count": 29,
   "metadata": {},
   "outputs": [],
   "source": [
    "Østbirk_weather_filtered=Østbirk_weather_filtered[['Time','Temp - °C', 'High Temp - °C','Low Temp - °C','Hum - %','Dew Point - °C','Avg Wind Speed - m/s',\n",
    "                                                   'Prevailing Wind Direction','Wind Run - m','High Wind Speed - m/s','High Wind Direction',\n",
    "                                                   'Wind Chill - °C','Heat Index - °C','THW Index - °C','THSW Index - °C','Barometer - hPa',\n",
    "                                                   'Rain - mm','High Rain Rate - mm/h','Solar Rad - W/m^2','High Solar Rad - W/m^2','UV Index',\n",
    "                                                   'UV Dose - MEDs','High UV Index','Heating Degree Days','Cooling Degree Days','Inside Temp - °C',\n",
    "                                                   'Inside Hum - %','Inside Dew Point - °C','Inside Heat Index - °C','ET - mm'\n",
    "                                                   ]]"
   ]
  },
  {
   "cell_type": "code",
   "execution_count": 30,
   "metadata": {},
   "outputs": [],
   "source": [
    "Østbirk_weather_filtered.columns= ['Time', 'Temp Out', 'Hi Temp', 'Low Temp', 'Out Hum',\n",
    "       'Dew Pt.', 'Wind Speed', 'Wind Dir','Wind Run', 'Hi Speed', 'Hi Dir',\n",
    "       'Wind Chill', 'Heat Index', 'THW Index','THSW Index', 'Bar', 'Rain',\n",
    "       'Rain Rate', 'Solar Rad.', 'Hi Solar Rad.',\n",
    "       'UV Index', 'UV Dose', 'Hi UV', 'Heat D-D','Cool D-D', 'In Temp', 'In Hum',\n",
    "       'In Dew', 'In Heat', 'ET']"
   ]
  },
  {
   "cell_type": "code",
   "execution_count": 31,
   "metadata": {},
   "outputs": [],
   "source": [
    "#fills the the NaN values in the wind direction columns with 'Calm' if wind speed is 0.0\n",
    "Østbirk_weather_filtered.loc[(Østbirk_weather_filtered[\"Wind Dir\"].isna()) & (Østbirk_weather_filtered[\"Wind Speed\"] == 0.0), \"Wind Dir\"] = \"Calm\"\n",
    "Østbirk_weather_filtered.loc[(Østbirk_weather_filtered[\"Hi Dir\"].isna()) & (Østbirk_weather_filtered[\"Hi Speed\"] == 0.0), \"Hi Dir\"] = \"Calm\""
   ]
  },
  {
   "cell_type": "code",
   "execution_count": 32,
   "metadata": {},
   "outputs": [],
   "source": [
    "Østbirk_weather_cleaned = Østbirk_weather_filtered.dropna(subset=['Temp Out'])\n",
    "print(Østbirk_weather_cleaned.shape)"
   ]
  },
  {
   "cell_type": "code",
   "execution_count": null,
   "metadata": {},
   "outputs": [],
   "source": [
    "print(Østbirk_weather_cleaned.isna().sum())"
   ]
  },
  {
   "cell_type": "code",
   "execution_count": null,
   "metadata": {},
   "outputs": [],
   "source": [
    "for column in raw_data_filtered.columns:\n",
    "    plt.figure(figsize=(50, 10))\n",
    "    plt.plot(raw_data_filtered.index, raw_data_filtered[column], marker='o', linestyle='-')\n",
    "    plt.xlabel(\"Tid\")\n",
    "    plt.ylabel(column)\n",
    "    plt.title(f\"Tidsserie af {column} \")\n",
    "    plt.grid()\n",
    "    plt.show()"
   ]
  },
  {
   "cell_type": "code",
   "execution_count": null,
   "metadata": {},
   "outputs": [],
   "source": [
    "#selects 10 sensors\n",
    "Østbirk_raw_data_filtered2= raw_data_filtered[['Time','103','102','117','217','105','111','120','205','210','215']]\n",
    "Østbirk_raw_data_filtered2.rename(columns={'102': 'Gip Top Center','103': 'Gip Bottom Center', '117':'Clading aPV east','217': 'Sash 15 mm below pane',\n",
    "                                          '105': 'Inner pane spacer - top center','111': 'Gip aPV east corner','120': 'Outer frame upper - top center',\n",
    "                                          '205':'Inner frame - top center','210': 'Top frame uPV east', '215':'Sash front bottom center'\n",
    "                                          }, inplace=True)\n"
   ]
  },
  {
   "cell_type": "code",
   "execution_count": null,
   "metadata": {},
   "outputs": [],
   "source": [
    "#selects 10 random sensors to the robustness analysis\n",
    "Østbirk_raw_data_filtered3= raw_data_filtered[['Time','115','219','118','106','112','201','211','207','109','305']]\n",
    "Østbirk_raw_data_filtered3.rename(columns={ '115':'Cladding uPV east corner','219': 'Sash 15 mm below pane - bottom center', '118': 'Gip uPV east',\n",
    "                                          '106':'Outer pane spacer - top center','112': 'Gip uPV west corner','201': 'Outer frame lower - top center', \n",
    "                                          '211':'Sash behind pane - aPV east', '207': 'Inner frame uPV east', '109':'Inner pane spacer - bottom center', '305': 'Sash gasket level - bottom center',\n",
    "                                          }, inplace=True)"
   ]
  },
  {
   "cell_type": "code",
   "execution_count": null,
   "metadata": {},
   "outputs": [],
   "source": [
    "Østbirk_raw_data_filtered.isna().sum()"
   ]
  },
  {
   "cell_type": "code",
   "execution_count": 50,
   "metadata": {},
   "outputs": [],
   "source": [
    "#merges the sensor data and weather data with a 10 min tollerance\n",
    "def merge_dfs(df,df2):\n",
    "    data = pd.merge_asof(df,  \n",
    "                          df2,   \n",
    "                          left_index=True, \n",
    "                          right_index=True,\n",
    "                          direction=\"nearest\",  \n",
    "                          tolerance=pd.Timedelta(\"10min\"))  \n",
    "    return data"
   ]
  },
  {
   "cell_type": "code",
   "execution_count": 44,
   "metadata": {},
   "outputs": [],
   "source": [
    "Østbirk_weather_cleaned=Østbirk_weather_cleaned.set_index('Time')"
   ]
  },
  {
   "cell_type": "code",
   "execution_count": 84,
   "metadata": {},
   "outputs": [],
   "source": [
    "Østbirk_raw_data_filtered2=Østbirk_raw_data_filtered2.set_index('Time')\n",
    "Østbirk_df2=merge_dfs(Østbirk_weather_cleaned,Østbirk_raw_data_filtered2)"
   ]
  },
  {
   "cell_type": "code",
   "execution_count": 52,
   "metadata": {},
   "outputs": [],
   "source": [
    "Østbirk_raw_data_filtered3=Østbirk_raw_data_filtered3.set_index('Time')\n",
    "Østbirk_df3=merge_dfs(Østbirk_weather_cleaned,Østbirk_raw_data_filtered3)"
   ]
  },
  {
   "cell_type": "code",
   "execution_count": 86,
   "metadata": {},
   "outputs": [],
   "source": [
    "Østbirk_data2=Østbirk_df2.dropna(subset='Gip Bottom Center')"
   ]
  },
  {
   "cell_type": "code",
   "execution_count": 54,
   "metadata": {},
   "outputs": [],
   "source": [
    "Østbirk_data3=Østbirk_df3.dropna(subset='Gip uPV east')"
   ]
  },
  {
   "cell_type": "code",
   "execution_count": 90,
   "metadata": {},
   "outputs": [],
   "source": [
    "def missing_times(df, start_date, end_date):\n",
    "    expected_time_index = pd.date_range(start=start_date, end=end_date, freq=\"30min\")\n",
    "    missing_times = expected_time_index.difference(df['Time'])\n",
    "    print(\"Missing:\", missing_times)\n",
    "    print(f\"Number of missing times: {len(missing_times)}\")\n",
    "    return missing_times\n",
    "\n"
   ]
  },
  {
   "cell_type": "code",
   "execution_count": null,
   "metadata": {},
   "outputs": [],
   "source": [
    "\n",
    "def plot_missing_times(m):\n",
    "    plt.figure(figsize=(12, 6))\n",
    "    plt.scatter(m, [1] * len(m), color='blue', marker='|', s=10)\n",
    "    plt.xlabel(\"Time\")\n",
    "    plt.title(\"Missing timestamps\")\n",
    "    plt.yticks([])\n",
    "    plt.xticks(rotation=45)\n",
    "    plt.show()\n",
    "\n",
    "Østbirk_data=Østbirk_data.reset_index('Time')\n",
    "m=missing_times(Østbirk_data, '2023-05-15 12:00:00','2023-11-30 21:30:00')\n",
    "plot_missing_times(m)"
   ]
  },
  {
   "cell_type": "code",
   "execution_count": null,
   "metadata": {},
   "outputs": [],
   "source": [
    "Østbirk_data2=Østbirk_data2.reset_index()"
   ]
  },
  {
   "cell_type": "code",
   "execution_count": null,
   "metadata": {},
   "outputs": [],
   "source": [
    "\n",
    "Østbirk_data2[\"Window_Type\"] = 1\n",
    "Østbirk_data2[\"Blinds\"] = 1\n",
    "Østbirk_data2[\"Window_ID\"] = 1\n",
    "Østbirk_data2['Latitude']=\n",
    "Østbirk_data2['Longitude']= "
   ]
  },
  {
   "cell_type": "code",
   "execution_count": 95,
   "metadata": {},
   "outputs": [],
   "source": [
    "Østbirk_data2.to_csv(\"df_Østbirk_10.csv\",index=False)"
   ]
  },
  {
   "cell_type": "code",
   "execution_count": null,
   "metadata": {},
   "outputs": [],
   "source": [
    "Østbirk_data3[\"Window_Type\"] = 1\n",
    "Østbirk_data3[\"Blinds\"] = 1\n",
    "Østbirk_data3[\"Window_ID\"] = 1\n",
    "Østbirk_data3['Latitude']= \n",
    "Østbirk_data3['Longitude']="
   ]
  },
  {
   "cell_type": "code",
   "execution_count": 57,
   "metadata": {},
   "outputs": [],
   "source": [
    "Østbirk_data3=Østbirk_data3.reset_index('Time')"
   ]
  },
  {
   "cell_type": "code",
   "execution_count": 58,
   "metadata": {},
   "outputs": [],
   "source": [
    "Østbirk_data3.to_csv(\"df_Østbirk_random.csv\",index=False)"
   ]
  }
 ],
 "metadata": {
  "kernelspec": {
   "display_name": "new_env",
   "language": "python",
   "name": "python3"
  },
  "language_info": {
   "codemirror_mode": {
    "name": "ipython",
    "version": 3
   },
   "file_extension": ".py",
   "mimetype": "text/x-python",
   "name": "python",
   "nbconvert_exporter": "python",
   "pygments_lexer": "ipython3",
   "version": "3.10.13"
  }
 },
 "nbformat": 4,
 "nbformat_minor": 2
}
